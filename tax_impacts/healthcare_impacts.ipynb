{
 "cells": [
  {
   "cell_type": "code",
   "execution_count": 29,
   "metadata": {},
   "outputs": [],
   "source": [
    "from policyengine_us import Microsimulation\n",
    "from policyengine_core.reforms import Reform\n",
    "import pandas as pd\n",
    "import numpy as np\n",
    "import plotly.graph_objects as go\n",
    "from plotly.subplots import make_subplots"
   ]
  },
  {
   "cell_type": "code",
   "execution_count": 30,
   "metadata": {},
   "outputs": [],
   "source": [
    "# Define baseline takeup rates\n",
    "baseline_takeup_rates = {\n",
    "    \"snap\": 0.82,\n",
    "    \"medicaid\": 0.93,\n",
    "    \"aca_ptc\": 0.672,\n",
    "}\n"
   ]
  },
  {
   "cell_type": "code",
   "execution_count": 31,
   "metadata": {},
   "outputs": [],
   "source": [
    "# Map program names to reform parameter names\n",
    "param_map = {\n",
    "    \"snap\": \"gov.usda.snap.takeup_rate\",\n",
    "    \"medicaid\": \"gov.hhs.medicaid.takeup_rate\",\n",
    "    \"aca_ptc\": \"gov.aca.takeup_rate\"\n",
    "}\n"
   ]
  },
  {
   "cell_type": "code",
   "execution_count": 32,
   "metadata": {},
   "outputs": [],
   "source": [
    "# Create dataset path variable for reusability\n",
    "dataset_path = \"hf://policyengine/policyengine-us-data/enhanced_cps_2024.h5\"\n"
   ]
  },
  {
   "cell_type": "code",
   "execution_count": 33,
   "metadata": {},
   "outputs": [],
   "source": [
    "# Function to calculate enrollment or spending\n",
    "def calculate_metric(sim, program, period=2026):\n",
    "    values = sim.calculate(program, map_to=\"person\", period=period)\n",
    "    if program == \"snap\":\n",
    "        # For SNAP, return enrollment (number of people)\n",
    "        return (values > 0).sum() / 1e6  # in millions\n",
    "    else:\n",
    "        # For Medicaid and ACA, return spending\n",
    "        return values.sum() / 1e9  # in billions\n"
   ]
  },
  {
   "cell_type": "code",
   "execution_count": 34,
   "metadata": {},
   "outputs": [],
   "source": [
    "# Create takeup rate range from 0 to 1 with 0.05 steps\n",
    "takeup_rates = np.arange(0, 0.102, 0.01)\n",
    "\n",
    "# Store results for each program\n",
    "results = {}"
   ]
  },
  {
   "cell_type": "code",
   "execution_count": 35,
   "metadata": {},
   "outputs": [
    {
     "name": "stdout",
     "output_type": "stream",
     "text": [
      "\n",
      "Processing SNAP...\n",
      "\n",
      "Processing MEDICAID...\n",
      "\n",
      "Processing ACA_PTC...\n"
     ]
    }
   ],
   "source": [
    "for program in [\"snap\", \"medicaid\", \"aca_ptc\"]:\n",
    "    print(f\"\\nProcessing {program.upper()}...\")\n",
    "    \n",
    "    baseline_takeup = baseline_takeup_rates[program]\n",
    "    program_results = {\n",
    "        'takeup_rate': [],\n",
    "        'baseline_metric': [],\n",
    "        'reformed_metric': [],\n",
    "        'change_from_baseline': []\n",
    "    }\n",
    "    \n",
    "    # Calculate baseline metric ONCE (using actual baseline takeup rate)\n",
    "    baseline_reform = Reform.from_dict(\n",
    "        {\n",
    "            param_map[program]: {\n",
    "                \"2026-01-01.2100-12-31\": baseline_takeup\n",
    "            }\n",
    "        },\n",
    "        country_id=\"us\"\n",
    "    )\n",
    "    baseline_sim = Microsimulation(dataset=dataset_path, reform=baseline_reform)\n",
    "    baseline_metric = calculate_metric(baseline_sim, program)\n",
    "    \n",
    "    # Calculate metrics for each reformed takeup rate\n",
    "    for rate in takeup_rates:\n",
    "        # Create reform with current rate\n",
    "        reform = Reform.from_dict(\n",
    "            {\n",
    "                param_map[program]: {\n",
    "                    \"2026-01-01.2100-12-31\": rate\n",
    "                }\n",
    "            },\n",
    "            country_id=\"us\"\n",
    "        )\n",
    "        \n",
    "        # Run reformed simulation\n",
    "        reformed_sim = Microsimulation(dataset=dataset_path, reform=reform)\n",
    "        reformed_metric = calculate_metric(reformed_sim, program)\n",
    "        \n",
    "        # Calculate change from baseline\n",
    "        change = reformed_metric - baseline_metric\n",
    "        \n",
    "        # Store results\n",
    "        program_results['takeup_rate'].append(rate)\n",
    "        program_results['baseline_metric'].append(baseline_metric)\n",
    "        program_results['reformed_metric'].append(reformed_metric)\n",
    "        program_results['change_from_baseline'].append(change)\n",
    "    \n",
    "    results[program] = pd.DataFrame(program_results)"
   ]
  },
  {
   "cell_type": "code",
   "execution_count": 36,
   "metadata": {},
   "outputs": [],
   "source": [
    "# Define program display names and metrics\n",
    "programs = [\"snap\", \"medicaid\", \"aca_ptc\"]\n",
    "titles = {\"snap\": \"SNAP\", \"medicaid\": \"Medicaid\", \"aca_ptc\": \"ACA Premium Tax Credits\"}\n",
    "y_labels = {\"snap\": \"Enrollment (millions)\", \"medicaid\": \"Spending (billions)\", \"aca_ptc\": \"Spending (billions)\"}\n"
   ]
  },
  {
   "cell_type": "code",
   "execution_count": 37,
   "metadata": {},
   "outputs": [],
   "source": [
    "# Create first figure: Baseline vs Reformed\n",
    "fig1 = make_subplots(\n",
    "    rows=1, cols=3,\n",
    "    subplot_titles=[f'{titles[p]}: Baseline vs Reformed' for p in programs],\n",
    "    horizontal_spacing=0.12\n",
    ")"
   ]
  },
  {
   "cell_type": "code",
   "execution_count": 38,
   "metadata": {},
   "outputs": [
    {
     "data": {
      "application/vnd.plotly.v1+json": {
       "config": {
        "plotlyServerURL": "https://plot.ly"
       },
       "data": [
        {
         "hovertemplate": "Takeup Rate: %{x:.2f}<br>Enrollment (millions): %{y:.2f}<extra></extra>",
         "line": {
          "color": "blue",
          "width": 2
         },
         "mode": "lines",
         "name": "Baseline",
         "showlegend": true,
         "type": "scatter",
         "x": [
          0.6,
          0.61,
          0.62,
          0.63,
          0.64,
          0.65,
          0.66,
          0.67,
          0.68,
          0.6900000000000001,
          0.7000000000000001,
          0.7100000000000001,
          0.7200000000000001,
          0.7300000000000001,
          0.7400000000000001,
          0.7500000000000001,
          0.7600000000000001,
          0.7700000000000001,
          0.7800000000000001,
          0.7900000000000001,
          0.8000000000000002,
          0.8100000000000002,
          0.8200000000000002,
          0.8300000000000002,
          0.8400000000000002,
          0.8500000000000002,
          0.8600000000000002,
          0.8700000000000002,
          0.8800000000000002,
          0.8900000000000002,
          0.9000000000000002
         ],
         "xaxis": "x",
         "y": [
          65.97004806431393,
          65.97004806431393,
          65.97004806431393,
          65.97004806431393,
          65.97004806431393,
          65.97004806431393,
          65.97004806431393,
          65.97004806431393,
          65.97004806431393,
          65.97004806431393,
          65.97004806431393,
          65.97004806431393,
          65.97004806431393,
          65.97004806431393,
          65.97004806431393,
          65.97004806431393,
          65.97004806431393,
          65.97004806431393,
          65.97004806431393,
          65.97004806431393,
          65.97004806431393,
          65.97004806431393,
          65.97004806431393,
          65.97004806431393,
          65.97004806431393,
          65.97004806431393,
          65.97004806431393,
          65.97004806431393,
          65.97004806431393,
          65.97004806431393,
          65.97004806431393
         ],
         "yaxis": "y"
        },
        {
         "hovertemplate": "Takeup Rate: %{x:.2f}<br>Enrollment (millions): %{y:.2f}<extra></extra>",
         "line": {
          "color": "red",
          "dash": "dash",
          "width": 2
         },
         "mode": "lines",
         "name": "Reformed (rate - 0.05)",
         "showlegend": true,
         "type": "scatter",
         "x": [
          0.6,
          0.61,
          0.62,
          0.63,
          0.64,
          0.65,
          0.66,
          0.67,
          0.68,
          0.6900000000000001,
          0.7000000000000001,
          0.7100000000000001,
          0.7200000000000001,
          0.7300000000000001,
          0.7400000000000001,
          0.7500000000000001,
          0.7600000000000001,
          0.7700000000000001,
          0.7800000000000001,
          0.7900000000000001,
          0.8000000000000002,
          0.8100000000000002,
          0.8200000000000002,
          0.8300000000000002,
          0.8400000000000002,
          0.8500000000000002,
          0.8600000000000002,
          0.8700000000000002,
          0.8800000000000002,
          0.8900000000000002,
          0.9000000000000002
         ],
         "xaxis": "x",
         "y": [
          49.306535783303204,
          49.623871162503974,
          50.929694688028285,
          51.34337773585891,
          51.92754542919188,
          52.90517037064391,
          53.19163571005427,
          53.528028291123825,
          55.2048822952571,
          55.38907617521818,
          56.140559363487256,
          57.34746784829553,
          57.78096867306342,
          58.74947432444658,
          59.64829406395093,
          60.15209815223681,
          60.68920720345845,
          61.55255999127885,
          62.3565088998548,
          63.349972106004216,
          64.13522013092951,
          64.37486216716852,
          65.97004806431393,
          67.24267967073108,
          68.83064016152659,
          69.0429254996409,
          70.98514115242655,
          72.62453667284028,
          74.2576814110616,
          76.18260843456476,
          78.5635669739278
         ],
         "yaxis": "y"
        },
        {
         "hovertemplate": "Takeup Rate: %{x:.2f}<br>Spending (billions): %{y:.2f}<extra></extra>",
         "line": {
          "color": "blue",
          "width": 2
         },
         "mode": "lines",
         "name": "Baseline",
         "showlegend": false,
         "type": "scatter",
         "x": [
          0.6,
          0.61,
          0.62,
          0.63,
          0.64,
          0.65,
          0.66,
          0.67,
          0.68,
          0.6900000000000001,
          0.7000000000000001,
          0.7100000000000001,
          0.7200000000000001,
          0.7300000000000001,
          0.7400000000000001,
          0.7500000000000001,
          0.7600000000000001,
          0.7700000000000001,
          0.7800000000000001,
          0.7900000000000001,
          0.8000000000000002,
          0.8100000000000002,
          0.8200000000000002,
          0.8300000000000002,
          0.8400000000000002,
          0.8500000000000002,
          0.8600000000000002,
          0.8700000000000002,
          0.8800000000000002,
          0.8900000000000002,
          0.9000000000000002
         ],
         "xaxis": "x2",
         "y": [
          1002.9817013212572,
          1002.9817013212572,
          1002.9817013212572,
          1002.9817013212572,
          1002.9817013212572,
          1002.9817013212572,
          1002.9817013212572,
          1002.9817013212572,
          1002.9817013212572,
          1002.9817013212572,
          1002.9817013212572,
          1002.9817013212572,
          1002.9817013212572,
          1002.9817013212572,
          1002.9817013212572,
          1002.9817013212572,
          1002.9817013212572,
          1002.9817013212572,
          1002.9817013212572,
          1002.9817013212572,
          1002.9817013212572,
          1002.9817013212572,
          1002.9817013212572,
          1002.9817013212572,
          1002.9817013212572,
          1002.9817013212572,
          1002.9817013212572,
          1002.9817013212572,
          1002.9817013212572,
          1002.9817013212572,
          1002.9817013212572
         ],
         "yaxis": "y2"
        },
        {
         "hovertemplate": "Takeup Rate: %{x:.2f}<br>Spending (billions): %{y:.2f}<extra></extra>",
         "line": {
          "color": "red",
          "dash": "dash",
          "width": 2
         },
         "mode": "lines",
         "name": "Reformed (rate - 0.05)",
         "showlegend": false,
         "type": "scatter",
         "x": [
          0.6,
          0.61,
          0.62,
          0.63,
          0.64,
          0.65,
          0.66,
          0.67,
          0.68,
          0.6900000000000001,
          0.7000000000000001,
          0.7100000000000001,
          0.7200000000000001,
          0.7300000000000001,
          0.7400000000000001,
          0.7500000000000001,
          0.7600000000000001,
          0.7700000000000001,
          0.7800000000000001,
          0.7900000000000001,
          0.8000000000000002,
          0.8100000000000002,
          0.8200000000000002,
          0.8300000000000002,
          0.8400000000000002,
          0.8500000000000002,
          0.8600000000000002,
          0.8700000000000002,
          0.8800000000000002,
          0.8900000000000002,
          0.9000000000000002
         ],
         "xaxis": "x2",
         "y": [
          651.5612706007706,
          661.8054156335654,
          672.8871389745624,
          685.2673690053504,
          695.9014093962326,
          704.7061403703392,
          719.2361602254158,
          726.4416467795478,
          740.5074536530724,
          745.9491079445264,
          753.8969236658837,
          763.7886545307149,
          771.4047414594769,
          782.9776322107094,
          795.7982120175776,
          804.8745624346524,
          810.174503941414,
          817.4015082197778,
          828.9205468345747,
          837.0434841792307,
          860.0434245658271,
          866.9565969497695,
          882.2611164927872,
          893.4106600568578,
          897.4985342371363,
          904.996823860573,
          916.3293815757959,
          930.3050578037729,
          942.5917338476132,
          951.7705276603498,
          971.1888690114765
         ],
         "yaxis": "y2"
        },
        {
         "hovertemplate": "Takeup Rate: %{x:.2f}<br>Spending (billions): %{y:.2f}<extra></extra>",
         "line": {
          "color": "blue",
          "width": 2
         },
         "mode": "lines",
         "name": "Baseline",
         "showlegend": false,
         "type": "scatter",
         "x": [
          0.6,
          0.61,
          0.62,
          0.63,
          0.64,
          0.65,
          0.66,
          0.67,
          0.68,
          0.6900000000000001,
          0.7000000000000001,
          0.7100000000000001,
          0.7200000000000001,
          0.7300000000000001,
          0.7400000000000001,
          0.7500000000000001,
          0.7600000000000001,
          0.7700000000000001,
          0.7800000000000001,
          0.7900000000000001,
          0.8000000000000002,
          0.8100000000000002,
          0.8200000000000002,
          0.8300000000000002,
          0.8400000000000002,
          0.8500000000000002,
          0.8600000000000002,
          0.8700000000000002,
          0.8800000000000002,
          0.8900000000000002,
          0.9000000000000002
         ],
         "xaxis": "x3",
         "y": [
          144.77364172709346,
          144.77364172709346,
          144.77364172709346,
          144.77364172709346,
          144.77364172709346,
          144.77364172709346,
          144.77364172709346,
          144.77364172709346,
          144.77364172709346,
          144.77364172709346,
          144.77364172709346,
          144.77364172709346,
          144.77364172709346,
          144.77364172709346,
          144.77364172709346,
          144.77364172709346,
          144.77364172709346,
          144.77364172709346,
          144.77364172709346,
          144.77364172709346,
          144.77364172709346,
          144.77364172709346,
          144.77364172709346,
          144.77364172709346,
          144.77364172709346,
          144.77364172709346,
          144.77364172709346,
          144.77364172709346,
          144.77364172709346,
          144.77364172709346,
          144.77364172709346
         ],
         "yaxis": "y3"
        },
        {
         "hovertemplate": "Takeup Rate: %{x:.2f}<br>Spending (billions): %{y:.2f}<extra></extra>",
         "line": {
          "color": "red",
          "dash": "dash",
          "width": 2
         },
         "mode": "lines",
         "name": "Reformed (rate - 0.05)",
         "showlegend": false,
         "type": "scatter",
         "x": [
          0.6,
          0.61,
          0.62,
          0.63,
          0.64,
          0.65,
          0.66,
          0.67,
          0.68,
          0.6900000000000001,
          0.7000000000000001,
          0.7100000000000001,
          0.7200000000000001,
          0.7300000000000001,
          0.7400000000000001,
          0.7500000000000001,
          0.7600000000000001,
          0.7700000000000001,
          0.7800000000000001,
          0.7900000000000001,
          0.8000000000000002,
          0.8100000000000002,
          0.8200000000000002,
          0.8300000000000002,
          0.8400000000000002,
          0.8500000000000002,
          0.8600000000000002,
          0.8700000000000002,
          0.8800000000000002,
          0.8900000000000002,
          0.9000000000000002
         ],
         "xaxis": "x3",
         "y": [
          131.1275901270107,
          132.3476274571187,
          133.99161721525726,
          136.18111170710307,
          136.86925163115063,
          138.72948108973034,
          142.20214417684574,
          144.64393369512055,
          147.44155883056274,
          148.21468935344174,
          156.7877329833685,
          159.1988735460416,
          161.4315854280207,
          168.0645611099833,
          170.07914081364203,
          171.14380473068445,
          206.16912423458322,
          207.74869539919754,
          209.95929401029295,
          228.75043467407636,
          230.15055757488665,
          235.35524977882307,
          250.36755134297456,
          256.3323165057431,
          262.60454920783997,
          267.3178948438372,
          269.5760396049407,
          276.31584317008253,
          279.4698355639353,
          292.5760958841976,
          293.366609786901
         ],
         "yaxis": "y3"
        }
       ],
       "layout": {
        "annotations": [
         {
          "font": {
           "size": 16
          },
          "showarrow": false,
          "text": "SNAP: Baseline vs Reformed",
          "x": 0.12666666666666668,
          "xanchor": "center",
          "xref": "paper",
          "y": 1,
          "yanchor": "bottom",
          "yref": "paper"
         },
         {
          "font": {
           "size": 16
          },
          "showarrow": false,
          "text": "Medicaid: Baseline vs Reformed",
          "x": 0.5,
          "xanchor": "center",
          "xref": "paper",
          "y": 1,
          "yanchor": "bottom",
          "yref": "paper"
         },
         {
          "font": {
           "size": 16
          },
          "showarrow": false,
          "text": "ACA Premium Tax Credits: Baseline vs Reformed",
          "x": 0.8733333333333333,
          "xanchor": "center",
          "xref": "paper",
          "y": 1,
          "yanchor": "bottom",
          "yref": "paper"
         },
         {
          "showarrow": false,
          "text": "Current: 0.82",
          "x": 0.82,
          "xanchor": "left",
          "xref": "x",
          "y": 1,
          "yanchor": "top",
          "yref": "y domain"
         },
         {
          "showarrow": false,
          "text": "Current: 0.93",
          "x": 0.93,
          "xanchor": "left",
          "xref": "x2",
          "y": 1,
          "yanchor": "top",
          "yref": "y2 domain"
         },
         {
          "showarrow": false,
          "text": "Current: 0.67",
          "x": 0.672,
          "xanchor": "left",
          "xref": "x3",
          "y": 1,
          "yanchor": "top",
          "yref": "y3 domain"
         }
        ],
        "height": 500,
        "hovermode": "x unified",
        "shapes": [
         {
          "line": {
           "color": "green",
           "dash": "dot"
          },
          "opacity": 0.5,
          "type": "line",
          "x0": 0.82,
          "x1": 0.82,
          "xref": "x",
          "y0": 0,
          "y1": 1,
          "yref": "y domain"
         },
         {
          "line": {
           "color": "green",
           "dash": "dot"
          },
          "opacity": 0.5,
          "type": "line",
          "x0": 0.93,
          "x1": 0.93,
          "xref": "x2",
          "y0": 0,
          "y1": 1,
          "yref": "y2 domain"
         },
         {
          "line": {
           "color": "green",
           "dash": "dot"
          },
          "opacity": 0.5,
          "type": "line",
          "x0": 0.672,
          "x1": 0.672,
          "xref": "x3",
          "y0": 0,
          "y1": 1,
          "yref": "y3 domain"
         }
        ],
        "template": {
         "data": {
          "bar": [
           {
            "error_x": {
             "color": "#2a3f5f"
            },
            "error_y": {
             "color": "#2a3f5f"
            },
            "marker": {
             "line": {
              "color": "#E5ECF6",
              "width": 0.5
             },
             "pattern": {
              "fillmode": "overlay",
              "size": 10,
              "solidity": 0.2
             }
            },
            "type": "bar"
           }
          ],
          "barpolar": [
           {
            "marker": {
             "line": {
              "color": "#E5ECF6",
              "width": 0.5
             },
             "pattern": {
              "fillmode": "overlay",
              "size": 10,
              "solidity": 0.2
             }
            },
            "type": "barpolar"
           }
          ],
          "carpet": [
           {
            "aaxis": {
             "endlinecolor": "#2a3f5f",
             "gridcolor": "white",
             "linecolor": "white",
             "minorgridcolor": "white",
             "startlinecolor": "#2a3f5f"
            },
            "baxis": {
             "endlinecolor": "#2a3f5f",
             "gridcolor": "white",
             "linecolor": "white",
             "minorgridcolor": "white",
             "startlinecolor": "#2a3f5f"
            },
            "type": "carpet"
           }
          ],
          "choropleth": [
           {
            "colorbar": {
             "outlinewidth": 0,
             "ticks": ""
            },
            "type": "choropleth"
           }
          ],
          "contour": [
           {
            "colorbar": {
             "outlinewidth": 0,
             "ticks": ""
            },
            "colorscale": [
             [
              0,
              "#0d0887"
             ],
             [
              0.1111111111111111,
              "#46039f"
             ],
             [
              0.2222222222222222,
              "#7201a8"
             ],
             [
              0.3333333333333333,
              "#9c179e"
             ],
             [
              0.4444444444444444,
              "#bd3786"
             ],
             [
              0.5555555555555556,
              "#d8576b"
             ],
             [
              0.6666666666666666,
              "#ed7953"
             ],
             [
              0.7777777777777778,
              "#fb9f3a"
             ],
             [
              0.8888888888888888,
              "#fdca26"
             ],
             [
              1,
              "#f0f921"
             ]
            ],
            "type": "contour"
           }
          ],
          "contourcarpet": [
           {
            "colorbar": {
             "outlinewidth": 0,
             "ticks": ""
            },
            "type": "contourcarpet"
           }
          ],
          "heatmap": [
           {
            "colorbar": {
             "outlinewidth": 0,
             "ticks": ""
            },
            "colorscale": [
             [
              0,
              "#0d0887"
             ],
             [
              0.1111111111111111,
              "#46039f"
             ],
             [
              0.2222222222222222,
              "#7201a8"
             ],
             [
              0.3333333333333333,
              "#9c179e"
             ],
             [
              0.4444444444444444,
              "#bd3786"
             ],
             [
              0.5555555555555556,
              "#d8576b"
             ],
             [
              0.6666666666666666,
              "#ed7953"
             ],
             [
              0.7777777777777778,
              "#fb9f3a"
             ],
             [
              0.8888888888888888,
              "#fdca26"
             ],
             [
              1,
              "#f0f921"
             ]
            ],
            "type": "heatmap"
           }
          ],
          "heatmapgl": [
           {
            "colorbar": {
             "outlinewidth": 0,
             "ticks": ""
            },
            "colorscale": [
             [
              0,
              "#0d0887"
             ],
             [
              0.1111111111111111,
              "#46039f"
             ],
             [
              0.2222222222222222,
              "#7201a8"
             ],
             [
              0.3333333333333333,
              "#9c179e"
             ],
             [
              0.4444444444444444,
              "#bd3786"
             ],
             [
              0.5555555555555556,
              "#d8576b"
             ],
             [
              0.6666666666666666,
              "#ed7953"
             ],
             [
              0.7777777777777778,
              "#fb9f3a"
             ],
             [
              0.8888888888888888,
              "#fdca26"
             ],
             [
              1,
              "#f0f921"
             ]
            ],
            "type": "heatmapgl"
           }
          ],
          "histogram": [
           {
            "marker": {
             "pattern": {
              "fillmode": "overlay",
              "size": 10,
              "solidity": 0.2
             }
            },
            "type": "histogram"
           }
          ],
          "histogram2d": [
           {
            "colorbar": {
             "outlinewidth": 0,
             "ticks": ""
            },
            "colorscale": [
             [
              0,
              "#0d0887"
             ],
             [
              0.1111111111111111,
              "#46039f"
             ],
             [
              0.2222222222222222,
              "#7201a8"
             ],
             [
              0.3333333333333333,
              "#9c179e"
             ],
             [
              0.4444444444444444,
              "#bd3786"
             ],
             [
              0.5555555555555556,
              "#d8576b"
             ],
             [
              0.6666666666666666,
              "#ed7953"
             ],
             [
              0.7777777777777778,
              "#fb9f3a"
             ],
             [
              0.8888888888888888,
              "#fdca26"
             ],
             [
              1,
              "#f0f921"
             ]
            ],
            "type": "histogram2d"
           }
          ],
          "histogram2dcontour": [
           {
            "colorbar": {
             "outlinewidth": 0,
             "ticks": ""
            },
            "colorscale": [
             [
              0,
              "#0d0887"
             ],
             [
              0.1111111111111111,
              "#46039f"
             ],
             [
              0.2222222222222222,
              "#7201a8"
             ],
             [
              0.3333333333333333,
              "#9c179e"
             ],
             [
              0.4444444444444444,
              "#bd3786"
             ],
             [
              0.5555555555555556,
              "#d8576b"
             ],
             [
              0.6666666666666666,
              "#ed7953"
             ],
             [
              0.7777777777777778,
              "#fb9f3a"
             ],
             [
              0.8888888888888888,
              "#fdca26"
             ],
             [
              1,
              "#f0f921"
             ]
            ],
            "type": "histogram2dcontour"
           }
          ],
          "mesh3d": [
           {
            "colorbar": {
             "outlinewidth": 0,
             "ticks": ""
            },
            "type": "mesh3d"
           }
          ],
          "parcoords": [
           {
            "line": {
             "colorbar": {
              "outlinewidth": 0,
              "ticks": ""
             }
            },
            "type": "parcoords"
           }
          ],
          "pie": [
           {
            "automargin": true,
            "type": "pie"
           }
          ],
          "scatter": [
           {
            "fillpattern": {
             "fillmode": "overlay",
             "size": 10,
             "solidity": 0.2
            },
            "type": "scatter"
           }
          ],
          "scatter3d": [
           {
            "line": {
             "colorbar": {
              "outlinewidth": 0,
              "ticks": ""
             }
            },
            "marker": {
             "colorbar": {
              "outlinewidth": 0,
              "ticks": ""
             }
            },
            "type": "scatter3d"
           }
          ],
          "scattercarpet": [
           {
            "marker": {
             "colorbar": {
              "outlinewidth": 0,
              "ticks": ""
             }
            },
            "type": "scattercarpet"
           }
          ],
          "scattergeo": [
           {
            "marker": {
             "colorbar": {
              "outlinewidth": 0,
              "ticks": ""
             }
            },
            "type": "scattergeo"
           }
          ],
          "scattergl": [
           {
            "marker": {
             "colorbar": {
              "outlinewidth": 0,
              "ticks": ""
             }
            },
            "type": "scattergl"
           }
          ],
          "scattermapbox": [
           {
            "marker": {
             "colorbar": {
              "outlinewidth": 0,
              "ticks": ""
             }
            },
            "type": "scattermapbox"
           }
          ],
          "scatterpolar": [
           {
            "marker": {
             "colorbar": {
              "outlinewidth": 0,
              "ticks": ""
             }
            },
            "type": "scatterpolar"
           }
          ],
          "scatterpolargl": [
           {
            "marker": {
             "colorbar": {
              "outlinewidth": 0,
              "ticks": ""
             }
            },
            "type": "scatterpolargl"
           }
          ],
          "scatterternary": [
           {
            "marker": {
             "colorbar": {
              "outlinewidth": 0,
              "ticks": ""
             }
            },
            "type": "scatterternary"
           }
          ],
          "surface": [
           {
            "colorbar": {
             "outlinewidth": 0,
             "ticks": ""
            },
            "colorscale": [
             [
              0,
              "#0d0887"
             ],
             [
              0.1111111111111111,
              "#46039f"
             ],
             [
              0.2222222222222222,
              "#7201a8"
             ],
             [
              0.3333333333333333,
              "#9c179e"
             ],
             [
              0.4444444444444444,
              "#bd3786"
             ],
             [
              0.5555555555555556,
              "#d8576b"
             ],
             [
              0.6666666666666666,
              "#ed7953"
             ],
             [
              0.7777777777777778,
              "#fb9f3a"
             ],
             [
              0.8888888888888888,
              "#fdca26"
             ],
             [
              1,
              "#f0f921"
             ]
            ],
            "type": "surface"
           }
          ],
          "table": [
           {
            "cells": {
             "fill": {
              "color": "#EBF0F8"
             },
             "line": {
              "color": "white"
             }
            },
            "header": {
             "fill": {
              "color": "#C8D4E3"
             },
             "line": {
              "color": "white"
             }
            },
            "type": "table"
           }
          ]
         },
         "layout": {
          "annotationdefaults": {
           "arrowcolor": "#2a3f5f",
           "arrowhead": 0,
           "arrowwidth": 1
          },
          "autotypenumbers": "strict",
          "coloraxis": {
           "colorbar": {
            "outlinewidth": 0,
            "ticks": ""
           }
          },
          "colorscale": {
           "diverging": [
            [
             0,
             "#8e0152"
            ],
            [
             0.1,
             "#c51b7d"
            ],
            [
             0.2,
             "#de77ae"
            ],
            [
             0.3,
             "#f1b6da"
            ],
            [
             0.4,
             "#fde0ef"
            ],
            [
             0.5,
             "#f7f7f7"
            ],
            [
             0.6,
             "#e6f5d0"
            ],
            [
             0.7,
             "#b8e186"
            ],
            [
             0.8,
             "#7fbc41"
            ],
            [
             0.9,
             "#4d9221"
            ],
            [
             1,
             "#276419"
            ]
           ],
           "sequential": [
            [
             0,
             "#0d0887"
            ],
            [
             0.1111111111111111,
             "#46039f"
            ],
            [
             0.2222222222222222,
             "#7201a8"
            ],
            [
             0.3333333333333333,
             "#9c179e"
            ],
            [
             0.4444444444444444,
             "#bd3786"
            ],
            [
             0.5555555555555556,
             "#d8576b"
            ],
            [
             0.6666666666666666,
             "#ed7953"
            ],
            [
             0.7777777777777778,
             "#fb9f3a"
            ],
            [
             0.8888888888888888,
             "#fdca26"
            ],
            [
             1,
             "#f0f921"
            ]
           ],
           "sequentialminus": [
            [
             0,
             "#0d0887"
            ],
            [
             0.1111111111111111,
             "#46039f"
            ],
            [
             0.2222222222222222,
             "#7201a8"
            ],
            [
             0.3333333333333333,
             "#9c179e"
            ],
            [
             0.4444444444444444,
             "#bd3786"
            ],
            [
             0.5555555555555556,
             "#d8576b"
            ],
            [
             0.6666666666666666,
             "#ed7953"
            ],
            [
             0.7777777777777778,
             "#fb9f3a"
            ],
            [
             0.8888888888888888,
             "#fdca26"
            ],
            [
             1,
             "#f0f921"
            ]
           ]
          },
          "colorway": [
           "#636efa",
           "#EF553B",
           "#00cc96",
           "#ab63fa",
           "#FFA15A",
           "#19d3f3",
           "#FF6692",
           "#B6E880",
           "#FF97FF",
           "#FECB52"
          ],
          "font": {
           "color": "#2a3f5f"
          },
          "geo": {
           "bgcolor": "white",
           "lakecolor": "white",
           "landcolor": "#E5ECF6",
           "showlakes": true,
           "showland": true,
           "subunitcolor": "white"
          },
          "hoverlabel": {
           "align": "left"
          },
          "hovermode": "closest",
          "mapbox": {
           "style": "light"
          },
          "paper_bgcolor": "white",
          "plot_bgcolor": "#E5ECF6",
          "polar": {
           "angularaxis": {
            "gridcolor": "white",
            "linecolor": "white",
            "ticks": ""
           },
           "bgcolor": "#E5ECF6",
           "radialaxis": {
            "gridcolor": "white",
            "linecolor": "white",
            "ticks": ""
           }
          },
          "scene": {
           "xaxis": {
            "backgroundcolor": "#E5ECF6",
            "gridcolor": "white",
            "gridwidth": 2,
            "linecolor": "white",
            "showbackground": true,
            "ticks": "",
            "zerolinecolor": "white"
           },
           "yaxis": {
            "backgroundcolor": "#E5ECF6",
            "gridcolor": "white",
            "gridwidth": 2,
            "linecolor": "white",
            "showbackground": true,
            "ticks": "",
            "zerolinecolor": "white"
           },
           "zaxis": {
            "backgroundcolor": "#E5ECF6",
            "gridcolor": "white",
            "gridwidth": 2,
            "linecolor": "white",
            "showbackground": true,
            "ticks": "",
            "zerolinecolor": "white"
           }
          },
          "shapedefaults": {
           "line": {
            "color": "#2a3f5f"
           }
          },
          "ternary": {
           "aaxis": {
            "gridcolor": "white",
            "linecolor": "white",
            "ticks": ""
           },
           "baxis": {
            "gridcolor": "white",
            "linecolor": "white",
            "ticks": ""
           },
           "bgcolor": "#E5ECF6",
           "caxis": {
            "gridcolor": "white",
            "linecolor": "white",
            "ticks": ""
           }
          },
          "title": {
           "x": 0.05
          },
          "xaxis": {
           "automargin": true,
           "gridcolor": "white",
           "linecolor": "white",
           "ticks": "",
           "title": {
            "standoff": 15
           },
           "zerolinecolor": "white",
           "zerolinewidth": 2
          },
          "yaxis": {
           "automargin": true,
           "gridcolor": "white",
           "linecolor": "white",
           "ticks": "",
           "title": {
            "standoff": 15
           },
           "zerolinecolor": "white",
           "zerolinewidth": 2
          }
         }
        },
        "title": {
         "font": {
          "size": 20
         },
         "text": "Takeup Rate Analysis: Baseline vs Reformed Scenarios"
        },
        "width": 1400,
        "xaxis": {
         "anchor": "y",
         "domain": [
          0,
          0.25333333333333335
         ],
         "range": [
          0,
          1
         ],
         "title": {
          "text": "Takeup Rate"
         }
        },
        "xaxis2": {
         "anchor": "y2",
         "domain": [
          0.37333333333333335,
          0.6266666666666667
         ],
         "range": [
          0,
          1
         ],
         "title": {
          "text": "Takeup Rate"
         }
        },
        "xaxis3": {
         "anchor": "y3",
         "domain": [
          0.7466666666666667,
          1
         ],
         "range": [
          0,
          1
         ],
         "title": {
          "text": "Takeup Rate"
         }
        },
        "yaxis": {
         "anchor": "x",
         "domain": [
          0,
          1
         ],
         "title": {
          "text": "Enrollment (millions)"
         }
        },
        "yaxis2": {
         "anchor": "x2",
         "domain": [
          0,
          1
         ],
         "title": {
          "text": "Spending (billions)"
         }
        },
        "yaxis3": {
         "anchor": "x3",
         "domain": [
          0,
          1
         ],
         "title": {
          "text": "Spending (billions)"
         }
        }
       }
      }
     },
     "metadata": {},
     "output_type": "display_data"
    }
   ],
   "source": [
    "\n",
    "for idx, program in enumerate(programs):\n",
    "    df = results[program]\n",
    "    col = idx + 1\n",
    "    \n",
    "    # Add baseline line\n",
    "    fig1.add_trace(\n",
    "        go.Scatter(\n",
    "            x=df['takeup_rate'],\n",
    "            y=df['baseline_metric'],\n",
    "            mode='lines',\n",
    "            name='Baseline',\n",
    "            line=dict(color='blue', width=2),\n",
    "            showlegend=(idx == 0),\n",
    "            hovertemplate='Takeup Rate: %{x:.2f}<br>' + y_labels[program] + ': %{y:.2f}<extra></extra>'\n",
    "        ),\n",
    "        row=1, col=col\n",
    "    )\n",
    "    \n",
    "    # Add reformed line\n",
    "    fig1.add_trace(\n",
    "        go.Scatter(\n",
    "            x=df['takeup_rate'],\n",
    "            y=df['reformed_metric'],\n",
    "            mode='lines',\n",
    "            name='Reformed (rate - 0.05)',\n",
    "            line=dict(color='red', width=2, dash='dash'),\n",
    "            showlegend=(idx == 0),\n",
    "            hovertemplate='Takeup Rate: %{x:.2f}<br>' + y_labels[program] + ': %{y:.2f}<extra></extra>'\n",
    "        ),\n",
    "        row=1, col=col\n",
    "    )\n",
    "    \n",
    "    # Add vertical line for baseline takeup rate\n",
    "    fig1.add_vline(\n",
    "        x=baseline_takeup_rates[program],\n",
    "        line_dash=\"dot\",\n",
    "        line_color=\"green\",\n",
    "        opacity=0.5,\n",
    "        annotation_text=f\"Current: {baseline_takeup_rates[program]:.2f}\",\n",
    "        annotation_position=\"top right\",\n",
    "        row=1, col=col\n",
    "    )\n",
    "    \n",
    "    # Update axes\n",
    "    fig1.update_xaxes(title_text=\"Takeup Rate\", range=[0, 1], row=1, col=col)\n",
    "    fig1.update_yaxes(title_text=y_labels[program], row=1, col=col)\n",
    "\n",
    "# Update layout for first figure\n",
    "fig1.update_layout(\n",
    "    title_text=\"Takeup Rate Analysis: Baseline vs Reformed Scenarios\",\n",
    "    title_font_size=20,\n",
    "    height=500,\n",
    "    width=1400,\n",
    "    hovermode='x unified'\n",
    ")"
   ]
  },
  {
   "cell_type": "code",
   "execution_count": 39,
   "metadata": {},
   "outputs": [
    {
     "data": {
      "application/vnd.plotly.v1+json": {
       "config": {
        "plotlyServerURL": "https://plot.ly"
       },
       "data": [
        {
         "hovertemplate": "Reform Takeup Rate: %{x:.2f}<br>Change: %{y:.2f}<extra></extra>",
         "line": {
          "color": "green",
          "width": 2
         },
         "mode": "lines",
         "name": "Change from Baseline",
         "showlegend": true,
         "type": "scatter",
         "x": [
          0.6,
          0.61,
          0.62,
          0.63,
          0.64,
          0.65,
          0.66,
          0.67,
          0.68,
          0.6900000000000001,
          0.7000000000000001,
          0.7100000000000001,
          0.7200000000000001,
          0.7300000000000001,
          0.7400000000000001,
          0.7500000000000001,
          0.7600000000000001,
          0.7700000000000001,
          0.7800000000000001,
          0.7900000000000001,
          0.8000000000000002,
          0.8100000000000002,
          0.8200000000000002,
          0.8300000000000002,
          0.8400000000000002,
          0.8500000000000002,
          0.8600000000000002,
          0.8700000000000002,
          0.8800000000000002,
          0.8900000000000002,
          0.9000000000000002
         ],
         "xaxis": "x",
         "y": [
          -16.663512281010725,
          -16.346176901809955,
          -15.040353376285644,
          -14.62667032845502,
          -14.042502635122048,
          -13.06487769367002,
          -12.778412354259657,
          -12.442019773190104,
          -10.765165769056829,
          -10.58097188909575,
          -9.829488700826673,
          -8.622580216018399,
          -8.189079391250509,
          -7.220573739867348,
          -6.321754000363001,
          -5.817949912077118,
          -5.280840860855477,
          -4.417488073035081,
          -3.6135391644591266,
          -2.6200759583097124,
          -1.8348279333844175,
          -1.595185897145413,
          0,
          1.27263160641715,
          2.8605920972126597,
          3.0728774353269728,
          5.0150930881126214,
          6.65448860852635,
          8.287633346747668,
          10.212560370250827,
          12.593518909613877
         ],
         "yaxis": "y"
        },
        {
         "hovertemplate": "Reform Takeup Rate: %{x:.2f}<br>Change: %{y:.2f}<extra></extra>",
         "line": {
          "color": "green",
          "width": 2
         },
         "mode": "lines",
         "name": "Change from Baseline",
         "showlegend": false,
         "type": "scatter",
         "x": [
          0.6,
          0.61,
          0.62,
          0.63,
          0.64,
          0.65,
          0.66,
          0.67,
          0.68,
          0.6900000000000001,
          0.7000000000000001,
          0.7100000000000001,
          0.7200000000000001,
          0.7300000000000001,
          0.7400000000000001,
          0.7500000000000001,
          0.7600000000000001,
          0.7700000000000001,
          0.7800000000000001,
          0.7900000000000001,
          0.8000000000000002,
          0.8100000000000002,
          0.8200000000000002,
          0.8300000000000002,
          0.8400000000000002,
          0.8500000000000002,
          0.8600000000000002,
          0.8700000000000002,
          0.8800000000000002,
          0.8900000000000002,
          0.9000000000000002
         ],
         "xaxis": "x2",
         "y": [
          -351.4204307204866,
          -341.1762856876918,
          -330.09456234669483,
          -317.71433231590686,
          -307.08029192502465,
          -298.275560950918,
          -283.7455410958414,
          -276.5400545417094,
          -262.47424766818483,
          -257.0325933767308,
          -249.0847776553735,
          -239.19304679054233,
          -231.57695986178032,
          -220.0040691105478,
          -207.1834893036796,
          -198.10713888660484,
          -192.80719737984327,
          -185.58019310147938,
          -174.06115448668254,
          -165.93821714202647,
          -142.93827675543014,
          -136.0251043714877,
          -120.72058482847001,
          -109.57104126439947,
          -105.48316708412096,
          -97.98487746068417,
          -86.65231974546134,
          -72.67664351748431,
          -60.38996747364399,
          -51.211173660907434,
          -31.792832309780692
         ],
         "yaxis": "y2"
        },
        {
         "hovertemplate": "Reform Takeup Rate: %{x:.2f}<br>Change: %{y:.2f}<extra></extra>",
         "line": {
          "color": "green",
          "width": 2
         },
         "mode": "lines",
         "name": "Change from Baseline",
         "showlegend": false,
         "type": "scatter",
         "x": [
          0.6,
          0.61,
          0.62,
          0.63,
          0.64,
          0.65,
          0.66,
          0.67,
          0.68,
          0.6900000000000001,
          0.7000000000000001,
          0.7100000000000001,
          0.7200000000000001,
          0.7300000000000001,
          0.7400000000000001,
          0.7500000000000001,
          0.7600000000000001,
          0.7700000000000001,
          0.7800000000000001,
          0.7900000000000001,
          0.8000000000000002,
          0.8100000000000002,
          0.8200000000000002,
          0.8300000000000002,
          0.8400000000000002,
          0.8500000000000002,
          0.8600000000000002,
          0.8700000000000002,
          0.8800000000000002,
          0.8900000000000002,
          0.9000000000000002
         ],
         "xaxis": "x3",
         "y": [
          -13.646051600082757,
          -12.426014269974758,
          -10.782024511836198,
          -8.592530019990392,
          -7.90439009594283,
          -6.04416063736312,
          -2.5714975502477273,
          -0.12970803197291048,
          2.6679171034692786,
          3.441047626348279,
          12.014091256275037,
          14.425231818948134,
          16.657943700927234,
          23.290919382889825,
          25.305499086548565,
          26.37016300359099,
          61.39548250748976,
          62.97505367210408,
          65.18565228319949,
          83.9767929469829,
          85.37691584779319,
          90.5816080517296,
          105.5939096158811,
          111.55867477864965,
          117.8309074807465,
          122.54425311674376,
          124.80239787784726,
          131.54220144298907,
          134.69619383684184,
          147.80245415710417,
          148.59296805980753
         ],
         "yaxis": "y3"
        }
       ],
       "layout": {
        "annotations": [
         {
          "font": {
           "size": 16
          },
          "showarrow": false,
          "text": "SNAP: Change from Baseline",
          "x": 0.12666666666666668,
          "xanchor": "center",
          "xref": "paper",
          "y": 1,
          "yanchor": "bottom",
          "yref": "paper"
         },
         {
          "font": {
           "size": 16
          },
          "showarrow": false,
          "text": "Medicaid: Change from Baseline",
          "x": 0.5,
          "xanchor": "center",
          "xref": "paper",
          "y": 1,
          "yanchor": "bottom",
          "yref": "paper"
         },
         {
          "font": {
           "size": 16
          },
          "showarrow": false,
          "text": "ACA Premium Tax Credits: Change from Baseline",
          "x": 0.8733333333333333,
          "xanchor": "center",
          "xref": "paper",
          "y": 1,
          "yanchor": "bottom",
          "yref": "paper"
         },
         {
          "showarrow": false,
          "text": "Current: 0.82",
          "x": 0.82,
          "xanchor": "left",
          "xref": "x",
          "y": 1,
          "yanchor": "top",
          "yref": "y domain"
         },
         {
          "showarrow": false,
          "text": "Current: 0.93",
          "x": 0.93,
          "xanchor": "left",
          "xref": "x2",
          "y": 1,
          "yanchor": "top",
          "yref": "y2 domain"
         },
         {
          "showarrow": false,
          "text": "Current: 0.67",
          "x": 0.672,
          "xanchor": "left",
          "xref": "x3",
          "y": 1,
          "yanchor": "top",
          "yref": "y3 domain"
         }
        ],
        "height": 500,
        "hovermode": "x unified",
        "shapes": [
         {
          "line": {
           "color": "black"
          },
          "opacity": 0.3,
          "type": "line",
          "x0": 0,
          "x1": 1,
          "xref": "x domain",
          "y0": 0,
          "y1": 0,
          "yref": "y"
         },
         {
          "line": {
           "color": "green",
           "dash": "dot"
          },
          "opacity": 0.5,
          "type": "line",
          "x0": 0.82,
          "x1": 0.82,
          "xref": "x",
          "y0": 0,
          "y1": 1,
          "yref": "y domain"
         },
         {
          "line": {
           "color": "black"
          },
          "opacity": 0.3,
          "type": "line",
          "x0": 0,
          "x1": 1,
          "xref": "x2 domain",
          "y0": 0,
          "y1": 0,
          "yref": "y2"
         },
         {
          "line": {
           "color": "green",
           "dash": "dot"
          },
          "opacity": 0.5,
          "type": "line",
          "x0": 0.93,
          "x1": 0.93,
          "xref": "x2",
          "y0": 0,
          "y1": 1,
          "yref": "y2 domain"
         },
         {
          "line": {
           "color": "black"
          },
          "opacity": 0.3,
          "type": "line",
          "x0": 0,
          "x1": 1,
          "xref": "x3 domain",
          "y0": 0,
          "y1": 0,
          "yref": "y3"
         },
         {
          "line": {
           "color": "green",
           "dash": "dot"
          },
          "opacity": 0.5,
          "type": "line",
          "x0": 0.672,
          "x1": 0.672,
          "xref": "x3",
          "y0": 0,
          "y1": 1,
          "yref": "y3 domain"
         }
        ],
        "template": {
         "data": {
          "bar": [
           {
            "error_x": {
             "color": "#2a3f5f"
            },
            "error_y": {
             "color": "#2a3f5f"
            },
            "marker": {
             "line": {
              "color": "#E5ECF6",
              "width": 0.5
             },
             "pattern": {
              "fillmode": "overlay",
              "size": 10,
              "solidity": 0.2
             }
            },
            "type": "bar"
           }
          ],
          "barpolar": [
           {
            "marker": {
             "line": {
              "color": "#E5ECF6",
              "width": 0.5
             },
             "pattern": {
              "fillmode": "overlay",
              "size": 10,
              "solidity": 0.2
             }
            },
            "type": "barpolar"
           }
          ],
          "carpet": [
           {
            "aaxis": {
             "endlinecolor": "#2a3f5f",
             "gridcolor": "white",
             "linecolor": "white",
             "minorgridcolor": "white",
             "startlinecolor": "#2a3f5f"
            },
            "baxis": {
             "endlinecolor": "#2a3f5f",
             "gridcolor": "white",
             "linecolor": "white",
             "minorgridcolor": "white",
             "startlinecolor": "#2a3f5f"
            },
            "type": "carpet"
           }
          ],
          "choropleth": [
           {
            "colorbar": {
             "outlinewidth": 0,
             "ticks": ""
            },
            "type": "choropleth"
           }
          ],
          "contour": [
           {
            "colorbar": {
             "outlinewidth": 0,
             "ticks": ""
            },
            "colorscale": [
             [
              0,
              "#0d0887"
             ],
             [
              0.1111111111111111,
              "#46039f"
             ],
             [
              0.2222222222222222,
              "#7201a8"
             ],
             [
              0.3333333333333333,
              "#9c179e"
             ],
             [
              0.4444444444444444,
              "#bd3786"
             ],
             [
              0.5555555555555556,
              "#d8576b"
             ],
             [
              0.6666666666666666,
              "#ed7953"
             ],
             [
              0.7777777777777778,
              "#fb9f3a"
             ],
             [
              0.8888888888888888,
              "#fdca26"
             ],
             [
              1,
              "#f0f921"
             ]
            ],
            "type": "contour"
           }
          ],
          "contourcarpet": [
           {
            "colorbar": {
             "outlinewidth": 0,
             "ticks": ""
            },
            "type": "contourcarpet"
           }
          ],
          "heatmap": [
           {
            "colorbar": {
             "outlinewidth": 0,
             "ticks": ""
            },
            "colorscale": [
             [
              0,
              "#0d0887"
             ],
             [
              0.1111111111111111,
              "#46039f"
             ],
             [
              0.2222222222222222,
              "#7201a8"
             ],
             [
              0.3333333333333333,
              "#9c179e"
             ],
             [
              0.4444444444444444,
              "#bd3786"
             ],
             [
              0.5555555555555556,
              "#d8576b"
             ],
             [
              0.6666666666666666,
              "#ed7953"
             ],
             [
              0.7777777777777778,
              "#fb9f3a"
             ],
             [
              0.8888888888888888,
              "#fdca26"
             ],
             [
              1,
              "#f0f921"
             ]
            ],
            "type": "heatmap"
           }
          ],
          "heatmapgl": [
           {
            "colorbar": {
             "outlinewidth": 0,
             "ticks": ""
            },
            "colorscale": [
             [
              0,
              "#0d0887"
             ],
             [
              0.1111111111111111,
              "#46039f"
             ],
             [
              0.2222222222222222,
              "#7201a8"
             ],
             [
              0.3333333333333333,
              "#9c179e"
             ],
             [
              0.4444444444444444,
              "#bd3786"
             ],
             [
              0.5555555555555556,
              "#d8576b"
             ],
             [
              0.6666666666666666,
              "#ed7953"
             ],
             [
              0.7777777777777778,
              "#fb9f3a"
             ],
             [
              0.8888888888888888,
              "#fdca26"
             ],
             [
              1,
              "#f0f921"
             ]
            ],
            "type": "heatmapgl"
           }
          ],
          "histogram": [
           {
            "marker": {
             "pattern": {
              "fillmode": "overlay",
              "size": 10,
              "solidity": 0.2
             }
            },
            "type": "histogram"
           }
          ],
          "histogram2d": [
           {
            "colorbar": {
             "outlinewidth": 0,
             "ticks": ""
            },
            "colorscale": [
             [
              0,
              "#0d0887"
             ],
             [
              0.1111111111111111,
              "#46039f"
             ],
             [
              0.2222222222222222,
              "#7201a8"
             ],
             [
              0.3333333333333333,
              "#9c179e"
             ],
             [
              0.4444444444444444,
              "#bd3786"
             ],
             [
              0.5555555555555556,
              "#d8576b"
             ],
             [
              0.6666666666666666,
              "#ed7953"
             ],
             [
              0.7777777777777778,
              "#fb9f3a"
             ],
             [
              0.8888888888888888,
              "#fdca26"
             ],
             [
              1,
              "#f0f921"
             ]
            ],
            "type": "histogram2d"
           }
          ],
          "histogram2dcontour": [
           {
            "colorbar": {
             "outlinewidth": 0,
             "ticks": ""
            },
            "colorscale": [
             [
              0,
              "#0d0887"
             ],
             [
              0.1111111111111111,
              "#46039f"
             ],
             [
              0.2222222222222222,
              "#7201a8"
             ],
             [
              0.3333333333333333,
              "#9c179e"
             ],
             [
              0.4444444444444444,
              "#bd3786"
             ],
             [
              0.5555555555555556,
              "#d8576b"
             ],
             [
              0.6666666666666666,
              "#ed7953"
             ],
             [
              0.7777777777777778,
              "#fb9f3a"
             ],
             [
              0.8888888888888888,
              "#fdca26"
             ],
             [
              1,
              "#f0f921"
             ]
            ],
            "type": "histogram2dcontour"
           }
          ],
          "mesh3d": [
           {
            "colorbar": {
             "outlinewidth": 0,
             "ticks": ""
            },
            "type": "mesh3d"
           }
          ],
          "parcoords": [
           {
            "line": {
             "colorbar": {
              "outlinewidth": 0,
              "ticks": ""
             }
            },
            "type": "parcoords"
           }
          ],
          "pie": [
           {
            "automargin": true,
            "type": "pie"
           }
          ],
          "scatter": [
           {
            "fillpattern": {
             "fillmode": "overlay",
             "size": 10,
             "solidity": 0.2
            },
            "type": "scatter"
           }
          ],
          "scatter3d": [
           {
            "line": {
             "colorbar": {
              "outlinewidth": 0,
              "ticks": ""
             }
            },
            "marker": {
             "colorbar": {
              "outlinewidth": 0,
              "ticks": ""
             }
            },
            "type": "scatter3d"
           }
          ],
          "scattercarpet": [
           {
            "marker": {
             "colorbar": {
              "outlinewidth": 0,
              "ticks": ""
             }
            },
            "type": "scattercarpet"
           }
          ],
          "scattergeo": [
           {
            "marker": {
             "colorbar": {
              "outlinewidth": 0,
              "ticks": ""
             }
            },
            "type": "scattergeo"
           }
          ],
          "scattergl": [
           {
            "marker": {
             "colorbar": {
              "outlinewidth": 0,
              "ticks": ""
             }
            },
            "type": "scattergl"
           }
          ],
          "scattermapbox": [
           {
            "marker": {
             "colorbar": {
              "outlinewidth": 0,
              "ticks": ""
             }
            },
            "type": "scattermapbox"
           }
          ],
          "scatterpolar": [
           {
            "marker": {
             "colorbar": {
              "outlinewidth": 0,
              "ticks": ""
             }
            },
            "type": "scatterpolar"
           }
          ],
          "scatterpolargl": [
           {
            "marker": {
             "colorbar": {
              "outlinewidth": 0,
              "ticks": ""
             }
            },
            "type": "scatterpolargl"
           }
          ],
          "scatterternary": [
           {
            "marker": {
             "colorbar": {
              "outlinewidth": 0,
              "ticks": ""
             }
            },
            "type": "scatterternary"
           }
          ],
          "surface": [
           {
            "colorbar": {
             "outlinewidth": 0,
             "ticks": ""
            },
            "colorscale": [
             [
              0,
              "#0d0887"
             ],
             [
              0.1111111111111111,
              "#46039f"
             ],
             [
              0.2222222222222222,
              "#7201a8"
             ],
             [
              0.3333333333333333,
              "#9c179e"
             ],
             [
              0.4444444444444444,
              "#bd3786"
             ],
             [
              0.5555555555555556,
              "#d8576b"
             ],
             [
              0.6666666666666666,
              "#ed7953"
             ],
             [
              0.7777777777777778,
              "#fb9f3a"
             ],
             [
              0.8888888888888888,
              "#fdca26"
             ],
             [
              1,
              "#f0f921"
             ]
            ],
            "type": "surface"
           }
          ],
          "table": [
           {
            "cells": {
             "fill": {
              "color": "#EBF0F8"
             },
             "line": {
              "color": "white"
             }
            },
            "header": {
             "fill": {
              "color": "#C8D4E3"
             },
             "line": {
              "color": "white"
             }
            },
            "type": "table"
           }
          ]
         },
         "layout": {
          "annotationdefaults": {
           "arrowcolor": "#2a3f5f",
           "arrowhead": 0,
           "arrowwidth": 1
          },
          "autotypenumbers": "strict",
          "coloraxis": {
           "colorbar": {
            "outlinewidth": 0,
            "ticks": ""
           }
          },
          "colorscale": {
           "diverging": [
            [
             0,
             "#8e0152"
            ],
            [
             0.1,
             "#c51b7d"
            ],
            [
             0.2,
             "#de77ae"
            ],
            [
             0.3,
             "#f1b6da"
            ],
            [
             0.4,
             "#fde0ef"
            ],
            [
             0.5,
             "#f7f7f7"
            ],
            [
             0.6,
             "#e6f5d0"
            ],
            [
             0.7,
             "#b8e186"
            ],
            [
             0.8,
             "#7fbc41"
            ],
            [
             0.9,
             "#4d9221"
            ],
            [
             1,
             "#276419"
            ]
           ],
           "sequential": [
            [
             0,
             "#0d0887"
            ],
            [
             0.1111111111111111,
             "#46039f"
            ],
            [
             0.2222222222222222,
             "#7201a8"
            ],
            [
             0.3333333333333333,
             "#9c179e"
            ],
            [
             0.4444444444444444,
             "#bd3786"
            ],
            [
             0.5555555555555556,
             "#d8576b"
            ],
            [
             0.6666666666666666,
             "#ed7953"
            ],
            [
             0.7777777777777778,
             "#fb9f3a"
            ],
            [
             0.8888888888888888,
             "#fdca26"
            ],
            [
             1,
             "#f0f921"
            ]
           ],
           "sequentialminus": [
            [
             0,
             "#0d0887"
            ],
            [
             0.1111111111111111,
             "#46039f"
            ],
            [
             0.2222222222222222,
             "#7201a8"
            ],
            [
             0.3333333333333333,
             "#9c179e"
            ],
            [
             0.4444444444444444,
             "#bd3786"
            ],
            [
             0.5555555555555556,
             "#d8576b"
            ],
            [
             0.6666666666666666,
             "#ed7953"
            ],
            [
             0.7777777777777778,
             "#fb9f3a"
            ],
            [
             0.8888888888888888,
             "#fdca26"
            ],
            [
             1,
             "#f0f921"
            ]
           ]
          },
          "colorway": [
           "#636efa",
           "#EF553B",
           "#00cc96",
           "#ab63fa",
           "#FFA15A",
           "#19d3f3",
           "#FF6692",
           "#B6E880",
           "#FF97FF",
           "#FECB52"
          ],
          "font": {
           "color": "#2a3f5f"
          },
          "geo": {
           "bgcolor": "white",
           "lakecolor": "white",
           "landcolor": "#E5ECF6",
           "showlakes": true,
           "showland": true,
           "subunitcolor": "white"
          },
          "hoverlabel": {
           "align": "left"
          },
          "hovermode": "closest",
          "mapbox": {
           "style": "light"
          },
          "paper_bgcolor": "white",
          "plot_bgcolor": "#E5ECF6",
          "polar": {
           "angularaxis": {
            "gridcolor": "white",
            "linecolor": "white",
            "ticks": ""
           },
           "bgcolor": "#E5ECF6",
           "radialaxis": {
            "gridcolor": "white",
            "linecolor": "white",
            "ticks": ""
           }
          },
          "scene": {
           "xaxis": {
            "backgroundcolor": "#E5ECF6",
            "gridcolor": "white",
            "gridwidth": 2,
            "linecolor": "white",
            "showbackground": true,
            "ticks": "",
            "zerolinecolor": "white"
           },
           "yaxis": {
            "backgroundcolor": "#E5ECF6",
            "gridcolor": "white",
            "gridwidth": 2,
            "linecolor": "white",
            "showbackground": true,
            "ticks": "",
            "zerolinecolor": "white"
           },
           "zaxis": {
            "backgroundcolor": "#E5ECF6",
            "gridcolor": "white",
            "gridwidth": 2,
            "linecolor": "white",
            "showbackground": true,
            "ticks": "",
            "zerolinecolor": "white"
           }
          },
          "shapedefaults": {
           "line": {
            "color": "#2a3f5f"
           }
          },
          "ternary": {
           "aaxis": {
            "gridcolor": "white",
            "linecolor": "white",
            "ticks": ""
           },
           "baxis": {
            "gridcolor": "white",
            "linecolor": "white",
            "ticks": ""
           },
           "bgcolor": "#E5ECF6",
           "caxis": {
            "gridcolor": "white",
            "linecolor": "white",
            "ticks": ""
           }
          },
          "title": {
           "x": 0.05
          },
          "xaxis": {
           "automargin": true,
           "gridcolor": "white",
           "linecolor": "white",
           "ticks": "",
           "title": {
            "standoff": 15
           },
           "zerolinecolor": "white",
           "zerolinewidth": 2
          },
          "yaxis": {
           "automargin": true,
           "gridcolor": "white",
           "linecolor": "white",
           "ticks": "",
           "title": {
            "standoff": 15
           },
           "zerolinecolor": "white",
           "zerolinewidth": 2
          }
         }
        },
        "title": {
         "font": {
          "size": 20
         },
         "text": "Impact of Reform: Change from Baseline"
        },
        "width": 1400,
        "xaxis": {
         "anchor": "y",
         "domain": [
          0,
          0.25333333333333335
         ],
         "range": [
          0,
          1
         ],
         "title": {
          "text": "Reform Takeup Rate"
         }
        },
        "xaxis2": {
         "anchor": "y2",
         "domain": [
          0.37333333333333335,
          0.6266666666666667
         ],
         "range": [
          0,
          1
         ],
         "title": {
          "text": "Reform Takeup Rate"
         }
        },
        "xaxis3": {
         "anchor": "y3",
         "domain": [
          0.7466666666666667,
          1
         ],
         "range": [
          0,
          1
         ],
         "title": {
          "text": "Reform Takeup Rate"
         }
        },
        "yaxis": {
         "anchor": "x",
         "domain": [
          0,
          1
         ],
         "title": {
          "text": "Change in Enrollment from Baseline"
         }
        },
        "yaxis2": {
         "anchor": "x2",
         "domain": [
          0,
          1
         ],
         "title": {
          "text": "Change in Spending from Baseline"
         }
        },
        "yaxis3": {
         "anchor": "x3",
         "domain": [
          0,
          1
         ],
         "title": {
          "text": "Change in Spending from Baseline"
         }
        }
       }
      }
     },
     "metadata": {},
     "output_type": "display_data"
    }
   ],
   "source": [
    "# Create second figure: Change from Baseline\n",
    "fig2 = make_subplots(\n",
    "    rows=1, cols=3,\n",
    "    subplot_titles=[f'{titles[p]}: Change from Baseline' for p in programs],\n",
    "    horizontal_spacing=0.12\n",
    ")\n",
    "\n",
    "for idx, program in enumerate(programs):\n",
    "    df = results[program]\n",
    "    col = idx + 1\n",
    "    \n",
    "    # Add change line\n",
    "    fig2.add_trace(\n",
    "        go.Scatter(\n",
    "            x=df['takeup_rate'],\n",
    "            y=df['change_from_baseline'],\n",
    "            mode='lines',\n",
    "            name='Change from Baseline',\n",
    "            line=dict(color='green', width=2),\n",
    "            showlegend=(idx == 0),\n",
    "            hovertemplate='Reform Takeup Rate: %{x:.2f}<br>Change: %{y:.2f}<extra></extra>'\n",
    "        ),\n",
    "        row=1, col=col\n",
    "    )\n",
    "    \n",
    "    # Add horizontal line at y=0\n",
    "    fig2.add_hline(\n",
    "        y=0,\n",
    "        line_color=\"black\",\n",
    "        opacity=0.3,\n",
    "        row=1, col=col\n",
    "    )\n",
    "    \n",
    "    # Add vertical line for baseline takeup rate\n",
    "    fig2.add_vline(\n",
    "        x=baseline_takeup_rates[program],\n",
    "        line_dash=\"dot\",\n",
    "        line_color=\"green\",\n",
    "        opacity=0.5,\n",
    "        annotation_text=f\"Current: {baseline_takeup_rates[program]:.2f}\",\n",
    "        annotation_position=\"top right\",\n",
    "        row=1, col=col\n",
    "    )\n",
    "    \n",
    "    # Update axes\n",
    "    fig2.update_xaxes(title_text=\"Reform Takeup Rate\", range=[0, 1], row=1, col=col)\n",
    "    fig2.update_yaxes(title_text=f'Change in {y_labels[program].split()[0]} from Baseline', row=1, col=col)\n",
    "\n",
    "# Update layout for second figure\n",
    "fig2.update_layout(\n",
    "    title_text=\"Impact of Reform: Change from Baseline\",\n",
    "    title_font_size=20,\n",
    "    height=500,\n",
    "    width=1400,\n",
    "    hovermode='x unified'\n",
    ")"
   ]
  },
  {
   "cell_type": "code",
   "execution_count": 40,
   "metadata": {},
   "outputs": [
    {
     "data": {
      "application/vnd.plotly.v1+json": {
       "config": {
        "plotlyServerURL": "https://plot.ly"
       },
       "data": [
        {
         "hovertemplate": "Takeup Rate: %{x:.2f}<br>Enrollment (millions): %{y:.2f}<extra></extra>",
         "line": {
          "color": "blue",
          "width": 2
         },
         "mode": "lines",
         "name": "Baseline",
         "showlegend": true,
         "type": "scatter",
         "x": [
          0.6,
          0.61,
          0.62,
          0.63,
          0.64,
          0.65,
          0.66,
          0.67,
          0.68,
          0.6900000000000001,
          0.7000000000000001,
          0.7100000000000001,
          0.7200000000000001,
          0.7300000000000001,
          0.7400000000000001,
          0.7500000000000001,
          0.7600000000000001,
          0.7700000000000001,
          0.7800000000000001,
          0.7900000000000001,
          0.8000000000000002,
          0.8100000000000002,
          0.8200000000000002,
          0.8300000000000002,
          0.8400000000000002,
          0.8500000000000002,
          0.8600000000000002,
          0.8700000000000002,
          0.8800000000000002,
          0.8900000000000002,
          0.9000000000000002
         ],
         "xaxis": "x",
         "y": [
          65.97004806431393,
          65.97004806431393,
          65.97004806431393,
          65.97004806431393,
          65.97004806431393,
          65.97004806431393,
          65.97004806431393,
          65.97004806431393,
          65.97004806431393,
          65.97004806431393,
          65.97004806431393,
          65.97004806431393,
          65.97004806431393,
          65.97004806431393,
          65.97004806431393,
          65.97004806431393,
          65.97004806431393,
          65.97004806431393,
          65.97004806431393,
          65.97004806431393,
          65.97004806431393,
          65.97004806431393,
          65.97004806431393,
          65.97004806431393,
          65.97004806431393,
          65.97004806431393,
          65.97004806431393,
          65.97004806431393,
          65.97004806431393,
          65.97004806431393,
          65.97004806431393
         ],
         "yaxis": "y"
        },
        {
         "hovertemplate": "Takeup Rate: %{x:.2f}<br>Enrollment (millions): %{y:.2f}<extra></extra>",
         "line": {
          "color": "red",
          "dash": "dash",
          "width": 2
         },
         "mode": "lines",
         "name": "Reformed (rate - 0.05)",
         "showlegend": true,
         "type": "scatter",
         "x": [
          0.6,
          0.61,
          0.62,
          0.63,
          0.64,
          0.65,
          0.66,
          0.67,
          0.68,
          0.6900000000000001,
          0.7000000000000001,
          0.7100000000000001,
          0.7200000000000001,
          0.7300000000000001,
          0.7400000000000001,
          0.7500000000000001,
          0.7600000000000001,
          0.7700000000000001,
          0.7800000000000001,
          0.7900000000000001,
          0.8000000000000002,
          0.8100000000000002,
          0.8200000000000002,
          0.8300000000000002,
          0.8400000000000002,
          0.8500000000000002,
          0.8600000000000002,
          0.8700000000000002,
          0.8800000000000002,
          0.8900000000000002,
          0.9000000000000002
         ],
         "xaxis": "x",
         "y": [
          49.306535783303204,
          49.623871162503974,
          50.929694688028285,
          51.34337773585891,
          51.92754542919188,
          52.90517037064391,
          53.19163571005427,
          53.528028291123825,
          55.2048822952571,
          55.38907617521818,
          56.140559363487256,
          57.34746784829553,
          57.78096867306342,
          58.74947432444658,
          59.64829406395093,
          60.15209815223681,
          60.68920720345845,
          61.55255999127885,
          62.3565088998548,
          63.349972106004216,
          64.13522013092951,
          64.37486216716852,
          65.97004806431393,
          67.24267967073108,
          68.83064016152659,
          69.0429254996409,
          70.98514115242655,
          72.62453667284028,
          74.2576814110616,
          76.18260843456476,
          78.5635669739278
         ],
         "yaxis": "y"
        },
        {
         "hovertemplate": "Takeup Rate: %{x:.2f}<br>Spending (billions): %{y:.2f}<extra></extra>",
         "line": {
          "color": "blue",
          "width": 2
         },
         "mode": "lines",
         "name": "Baseline",
         "showlegend": false,
         "type": "scatter",
         "x": [
          0.6,
          0.61,
          0.62,
          0.63,
          0.64,
          0.65,
          0.66,
          0.67,
          0.68,
          0.6900000000000001,
          0.7000000000000001,
          0.7100000000000001,
          0.7200000000000001,
          0.7300000000000001,
          0.7400000000000001,
          0.7500000000000001,
          0.7600000000000001,
          0.7700000000000001,
          0.7800000000000001,
          0.7900000000000001,
          0.8000000000000002,
          0.8100000000000002,
          0.8200000000000002,
          0.8300000000000002,
          0.8400000000000002,
          0.8500000000000002,
          0.8600000000000002,
          0.8700000000000002,
          0.8800000000000002,
          0.8900000000000002,
          0.9000000000000002
         ],
         "xaxis": "x2",
         "y": [
          1002.9817013212572,
          1002.9817013212572,
          1002.9817013212572,
          1002.9817013212572,
          1002.9817013212572,
          1002.9817013212572,
          1002.9817013212572,
          1002.9817013212572,
          1002.9817013212572,
          1002.9817013212572,
          1002.9817013212572,
          1002.9817013212572,
          1002.9817013212572,
          1002.9817013212572,
          1002.9817013212572,
          1002.9817013212572,
          1002.9817013212572,
          1002.9817013212572,
          1002.9817013212572,
          1002.9817013212572,
          1002.9817013212572,
          1002.9817013212572,
          1002.9817013212572,
          1002.9817013212572,
          1002.9817013212572,
          1002.9817013212572,
          1002.9817013212572,
          1002.9817013212572,
          1002.9817013212572,
          1002.9817013212572,
          1002.9817013212572
         ],
         "yaxis": "y2"
        },
        {
         "hovertemplate": "Takeup Rate: %{x:.2f}<br>Spending (billions): %{y:.2f}<extra></extra>",
         "line": {
          "color": "red",
          "dash": "dash",
          "width": 2
         },
         "mode": "lines",
         "name": "Reformed (rate - 0.05)",
         "showlegend": false,
         "type": "scatter",
         "x": [
          0.6,
          0.61,
          0.62,
          0.63,
          0.64,
          0.65,
          0.66,
          0.67,
          0.68,
          0.6900000000000001,
          0.7000000000000001,
          0.7100000000000001,
          0.7200000000000001,
          0.7300000000000001,
          0.7400000000000001,
          0.7500000000000001,
          0.7600000000000001,
          0.7700000000000001,
          0.7800000000000001,
          0.7900000000000001,
          0.8000000000000002,
          0.8100000000000002,
          0.8200000000000002,
          0.8300000000000002,
          0.8400000000000002,
          0.8500000000000002,
          0.8600000000000002,
          0.8700000000000002,
          0.8800000000000002,
          0.8900000000000002,
          0.9000000000000002
         ],
         "xaxis": "x2",
         "y": [
          651.5612706007706,
          661.8054156335654,
          672.8871389745624,
          685.2673690053504,
          695.9014093962326,
          704.7061403703392,
          719.2361602254158,
          726.4416467795478,
          740.5074536530724,
          745.9491079445264,
          753.8969236658837,
          763.7886545307149,
          771.4047414594769,
          782.9776322107094,
          795.7982120175776,
          804.8745624346524,
          810.174503941414,
          817.4015082197778,
          828.9205468345747,
          837.0434841792307,
          860.0434245658271,
          866.9565969497695,
          882.2611164927872,
          893.4106600568578,
          897.4985342371363,
          904.996823860573,
          916.3293815757959,
          930.3050578037729,
          942.5917338476132,
          951.7705276603498,
          971.1888690114765
         ],
         "yaxis": "y2"
        },
        {
         "hovertemplate": "Takeup Rate: %{x:.2f}<br>Spending (billions): %{y:.2f}<extra></extra>",
         "line": {
          "color": "blue",
          "width": 2
         },
         "mode": "lines",
         "name": "Baseline",
         "showlegend": false,
         "type": "scatter",
         "x": [
          0.6,
          0.61,
          0.62,
          0.63,
          0.64,
          0.65,
          0.66,
          0.67,
          0.68,
          0.6900000000000001,
          0.7000000000000001,
          0.7100000000000001,
          0.7200000000000001,
          0.7300000000000001,
          0.7400000000000001,
          0.7500000000000001,
          0.7600000000000001,
          0.7700000000000001,
          0.7800000000000001,
          0.7900000000000001,
          0.8000000000000002,
          0.8100000000000002,
          0.8200000000000002,
          0.8300000000000002,
          0.8400000000000002,
          0.8500000000000002,
          0.8600000000000002,
          0.8700000000000002,
          0.8800000000000002,
          0.8900000000000002,
          0.9000000000000002
         ],
         "xaxis": "x3",
         "y": [
          144.77364172709346,
          144.77364172709346,
          144.77364172709346,
          144.77364172709346,
          144.77364172709346,
          144.77364172709346,
          144.77364172709346,
          144.77364172709346,
          144.77364172709346,
          144.77364172709346,
          144.77364172709346,
          144.77364172709346,
          144.77364172709346,
          144.77364172709346,
          144.77364172709346,
          144.77364172709346,
          144.77364172709346,
          144.77364172709346,
          144.77364172709346,
          144.77364172709346,
          144.77364172709346,
          144.77364172709346,
          144.77364172709346,
          144.77364172709346,
          144.77364172709346,
          144.77364172709346,
          144.77364172709346,
          144.77364172709346,
          144.77364172709346,
          144.77364172709346,
          144.77364172709346
         ],
         "yaxis": "y3"
        },
        {
         "hovertemplate": "Takeup Rate: %{x:.2f}<br>Spending (billions): %{y:.2f}<extra></extra>",
         "line": {
          "color": "red",
          "dash": "dash",
          "width": 2
         },
         "mode": "lines",
         "name": "Reformed (rate - 0.05)",
         "showlegend": false,
         "type": "scatter",
         "x": [
          0.6,
          0.61,
          0.62,
          0.63,
          0.64,
          0.65,
          0.66,
          0.67,
          0.68,
          0.6900000000000001,
          0.7000000000000001,
          0.7100000000000001,
          0.7200000000000001,
          0.7300000000000001,
          0.7400000000000001,
          0.7500000000000001,
          0.7600000000000001,
          0.7700000000000001,
          0.7800000000000001,
          0.7900000000000001,
          0.8000000000000002,
          0.8100000000000002,
          0.8200000000000002,
          0.8300000000000002,
          0.8400000000000002,
          0.8500000000000002,
          0.8600000000000002,
          0.8700000000000002,
          0.8800000000000002,
          0.8900000000000002,
          0.9000000000000002
         ],
         "xaxis": "x3",
         "y": [
          131.1275901270107,
          132.3476274571187,
          133.99161721525726,
          136.18111170710307,
          136.86925163115063,
          138.72948108973034,
          142.20214417684574,
          144.64393369512055,
          147.44155883056274,
          148.21468935344174,
          156.7877329833685,
          159.1988735460416,
          161.4315854280207,
          168.0645611099833,
          170.07914081364203,
          171.14380473068445,
          206.16912423458322,
          207.74869539919754,
          209.95929401029295,
          228.75043467407636,
          230.15055757488665,
          235.35524977882307,
          250.36755134297456,
          256.3323165057431,
          262.60454920783997,
          267.3178948438372,
          269.5760396049407,
          276.31584317008253,
          279.4698355639353,
          292.5760958841976,
          293.366609786901
         ],
         "yaxis": "y3"
        }
       ],
       "layout": {
        "annotations": [
         {
          "font": {
           "size": 16
          },
          "showarrow": false,
          "text": "SNAP: Baseline vs Reformed",
          "x": 0.12666666666666668,
          "xanchor": "center",
          "xref": "paper",
          "y": 1,
          "yanchor": "bottom",
          "yref": "paper"
         },
         {
          "font": {
           "size": 16
          },
          "showarrow": false,
          "text": "Medicaid: Baseline vs Reformed",
          "x": 0.5,
          "xanchor": "center",
          "xref": "paper",
          "y": 1,
          "yanchor": "bottom",
          "yref": "paper"
         },
         {
          "font": {
           "size": 16
          },
          "showarrow": false,
          "text": "ACA Premium Tax Credits: Baseline vs Reformed",
          "x": 0.8733333333333333,
          "xanchor": "center",
          "xref": "paper",
          "y": 1,
          "yanchor": "bottom",
          "yref": "paper"
         },
         {
          "showarrow": false,
          "text": "Current: 0.82",
          "x": 0.82,
          "xanchor": "left",
          "xref": "x",
          "y": 1,
          "yanchor": "top",
          "yref": "y domain"
         },
         {
          "showarrow": false,
          "text": "Current: 0.93",
          "x": 0.93,
          "xanchor": "left",
          "xref": "x2",
          "y": 1,
          "yanchor": "top",
          "yref": "y2 domain"
         },
         {
          "showarrow": false,
          "text": "Current: 0.67",
          "x": 0.672,
          "xanchor": "left",
          "xref": "x3",
          "y": 1,
          "yanchor": "top",
          "yref": "y3 domain"
         }
        ],
        "height": 500,
        "hovermode": "x unified",
        "shapes": [
         {
          "line": {
           "color": "green",
           "dash": "dot"
          },
          "opacity": 0.5,
          "type": "line",
          "x0": 0.82,
          "x1": 0.82,
          "xref": "x",
          "y0": 0,
          "y1": 1,
          "yref": "y domain"
         },
         {
          "line": {
           "color": "green",
           "dash": "dot"
          },
          "opacity": 0.5,
          "type": "line",
          "x0": 0.93,
          "x1": 0.93,
          "xref": "x2",
          "y0": 0,
          "y1": 1,
          "yref": "y2 domain"
         },
         {
          "line": {
           "color": "green",
           "dash": "dot"
          },
          "opacity": 0.5,
          "type": "line",
          "x0": 0.672,
          "x1": 0.672,
          "xref": "x3",
          "y0": 0,
          "y1": 1,
          "yref": "y3 domain"
         }
        ],
        "template": {
         "data": {
          "bar": [
           {
            "error_x": {
             "color": "#2a3f5f"
            },
            "error_y": {
             "color": "#2a3f5f"
            },
            "marker": {
             "line": {
              "color": "#E5ECF6",
              "width": 0.5
             },
             "pattern": {
              "fillmode": "overlay",
              "size": 10,
              "solidity": 0.2
             }
            },
            "type": "bar"
           }
          ],
          "barpolar": [
           {
            "marker": {
             "line": {
              "color": "#E5ECF6",
              "width": 0.5
             },
             "pattern": {
              "fillmode": "overlay",
              "size": 10,
              "solidity": 0.2
             }
            },
            "type": "barpolar"
           }
          ],
          "carpet": [
           {
            "aaxis": {
             "endlinecolor": "#2a3f5f",
             "gridcolor": "white",
             "linecolor": "white",
             "minorgridcolor": "white",
             "startlinecolor": "#2a3f5f"
            },
            "baxis": {
             "endlinecolor": "#2a3f5f",
             "gridcolor": "white",
             "linecolor": "white",
             "minorgridcolor": "white",
             "startlinecolor": "#2a3f5f"
            },
            "type": "carpet"
           }
          ],
          "choropleth": [
           {
            "colorbar": {
             "outlinewidth": 0,
             "ticks": ""
            },
            "type": "choropleth"
           }
          ],
          "contour": [
           {
            "colorbar": {
             "outlinewidth": 0,
             "ticks": ""
            },
            "colorscale": [
             [
              0,
              "#0d0887"
             ],
             [
              0.1111111111111111,
              "#46039f"
             ],
             [
              0.2222222222222222,
              "#7201a8"
             ],
             [
              0.3333333333333333,
              "#9c179e"
             ],
             [
              0.4444444444444444,
              "#bd3786"
             ],
             [
              0.5555555555555556,
              "#d8576b"
             ],
             [
              0.6666666666666666,
              "#ed7953"
             ],
             [
              0.7777777777777778,
              "#fb9f3a"
             ],
             [
              0.8888888888888888,
              "#fdca26"
             ],
             [
              1,
              "#f0f921"
             ]
            ],
            "type": "contour"
           }
          ],
          "contourcarpet": [
           {
            "colorbar": {
             "outlinewidth": 0,
             "ticks": ""
            },
            "type": "contourcarpet"
           }
          ],
          "heatmap": [
           {
            "colorbar": {
             "outlinewidth": 0,
             "ticks": ""
            },
            "colorscale": [
             [
              0,
              "#0d0887"
             ],
             [
              0.1111111111111111,
              "#46039f"
             ],
             [
              0.2222222222222222,
              "#7201a8"
             ],
             [
              0.3333333333333333,
              "#9c179e"
             ],
             [
              0.4444444444444444,
              "#bd3786"
             ],
             [
              0.5555555555555556,
              "#d8576b"
             ],
             [
              0.6666666666666666,
              "#ed7953"
             ],
             [
              0.7777777777777778,
              "#fb9f3a"
             ],
             [
              0.8888888888888888,
              "#fdca26"
             ],
             [
              1,
              "#f0f921"
             ]
            ],
            "type": "heatmap"
           }
          ],
          "heatmapgl": [
           {
            "colorbar": {
             "outlinewidth": 0,
             "ticks": ""
            },
            "colorscale": [
             [
              0,
              "#0d0887"
             ],
             [
              0.1111111111111111,
              "#46039f"
             ],
             [
              0.2222222222222222,
              "#7201a8"
             ],
             [
              0.3333333333333333,
              "#9c179e"
             ],
             [
              0.4444444444444444,
              "#bd3786"
             ],
             [
              0.5555555555555556,
              "#d8576b"
             ],
             [
              0.6666666666666666,
              "#ed7953"
             ],
             [
              0.7777777777777778,
              "#fb9f3a"
             ],
             [
              0.8888888888888888,
              "#fdca26"
             ],
             [
              1,
              "#f0f921"
             ]
            ],
            "type": "heatmapgl"
           }
          ],
          "histogram": [
           {
            "marker": {
             "pattern": {
              "fillmode": "overlay",
              "size": 10,
              "solidity": 0.2
             }
            },
            "type": "histogram"
           }
          ],
          "histogram2d": [
           {
            "colorbar": {
             "outlinewidth": 0,
             "ticks": ""
            },
            "colorscale": [
             [
              0,
              "#0d0887"
             ],
             [
              0.1111111111111111,
              "#46039f"
             ],
             [
              0.2222222222222222,
              "#7201a8"
             ],
             [
              0.3333333333333333,
              "#9c179e"
             ],
             [
              0.4444444444444444,
              "#bd3786"
             ],
             [
              0.5555555555555556,
              "#d8576b"
             ],
             [
              0.6666666666666666,
              "#ed7953"
             ],
             [
              0.7777777777777778,
              "#fb9f3a"
             ],
             [
              0.8888888888888888,
              "#fdca26"
             ],
             [
              1,
              "#f0f921"
             ]
            ],
            "type": "histogram2d"
           }
          ],
          "histogram2dcontour": [
           {
            "colorbar": {
             "outlinewidth": 0,
             "ticks": ""
            },
            "colorscale": [
             [
              0,
              "#0d0887"
             ],
             [
              0.1111111111111111,
              "#46039f"
             ],
             [
              0.2222222222222222,
              "#7201a8"
             ],
             [
              0.3333333333333333,
              "#9c179e"
             ],
             [
              0.4444444444444444,
              "#bd3786"
             ],
             [
              0.5555555555555556,
              "#d8576b"
             ],
             [
              0.6666666666666666,
              "#ed7953"
             ],
             [
              0.7777777777777778,
              "#fb9f3a"
             ],
             [
              0.8888888888888888,
              "#fdca26"
             ],
             [
              1,
              "#f0f921"
             ]
            ],
            "type": "histogram2dcontour"
           }
          ],
          "mesh3d": [
           {
            "colorbar": {
             "outlinewidth": 0,
             "ticks": ""
            },
            "type": "mesh3d"
           }
          ],
          "parcoords": [
           {
            "line": {
             "colorbar": {
              "outlinewidth": 0,
              "ticks": ""
             }
            },
            "type": "parcoords"
           }
          ],
          "pie": [
           {
            "automargin": true,
            "type": "pie"
           }
          ],
          "scatter": [
           {
            "fillpattern": {
             "fillmode": "overlay",
             "size": 10,
             "solidity": 0.2
            },
            "type": "scatter"
           }
          ],
          "scatter3d": [
           {
            "line": {
             "colorbar": {
              "outlinewidth": 0,
              "ticks": ""
             }
            },
            "marker": {
             "colorbar": {
              "outlinewidth": 0,
              "ticks": ""
             }
            },
            "type": "scatter3d"
           }
          ],
          "scattercarpet": [
           {
            "marker": {
             "colorbar": {
              "outlinewidth": 0,
              "ticks": ""
             }
            },
            "type": "scattercarpet"
           }
          ],
          "scattergeo": [
           {
            "marker": {
             "colorbar": {
              "outlinewidth": 0,
              "ticks": ""
             }
            },
            "type": "scattergeo"
           }
          ],
          "scattergl": [
           {
            "marker": {
             "colorbar": {
              "outlinewidth": 0,
              "ticks": ""
             }
            },
            "type": "scattergl"
           }
          ],
          "scattermapbox": [
           {
            "marker": {
             "colorbar": {
              "outlinewidth": 0,
              "ticks": ""
             }
            },
            "type": "scattermapbox"
           }
          ],
          "scatterpolar": [
           {
            "marker": {
             "colorbar": {
              "outlinewidth": 0,
              "ticks": ""
             }
            },
            "type": "scatterpolar"
           }
          ],
          "scatterpolargl": [
           {
            "marker": {
             "colorbar": {
              "outlinewidth": 0,
              "ticks": ""
             }
            },
            "type": "scatterpolargl"
           }
          ],
          "scatterternary": [
           {
            "marker": {
             "colorbar": {
              "outlinewidth": 0,
              "ticks": ""
             }
            },
            "type": "scatterternary"
           }
          ],
          "surface": [
           {
            "colorbar": {
             "outlinewidth": 0,
             "ticks": ""
            },
            "colorscale": [
             [
              0,
              "#0d0887"
             ],
             [
              0.1111111111111111,
              "#46039f"
             ],
             [
              0.2222222222222222,
              "#7201a8"
             ],
             [
              0.3333333333333333,
              "#9c179e"
             ],
             [
              0.4444444444444444,
              "#bd3786"
             ],
             [
              0.5555555555555556,
              "#d8576b"
             ],
             [
              0.6666666666666666,
              "#ed7953"
             ],
             [
              0.7777777777777778,
              "#fb9f3a"
             ],
             [
              0.8888888888888888,
              "#fdca26"
             ],
             [
              1,
              "#f0f921"
             ]
            ],
            "type": "surface"
           }
          ],
          "table": [
           {
            "cells": {
             "fill": {
              "color": "#EBF0F8"
             },
             "line": {
              "color": "white"
             }
            },
            "header": {
             "fill": {
              "color": "#C8D4E3"
             },
             "line": {
              "color": "white"
             }
            },
            "type": "table"
           }
          ]
         },
         "layout": {
          "annotationdefaults": {
           "arrowcolor": "#2a3f5f",
           "arrowhead": 0,
           "arrowwidth": 1
          },
          "autotypenumbers": "strict",
          "coloraxis": {
           "colorbar": {
            "outlinewidth": 0,
            "ticks": ""
           }
          },
          "colorscale": {
           "diverging": [
            [
             0,
             "#8e0152"
            ],
            [
             0.1,
             "#c51b7d"
            ],
            [
             0.2,
             "#de77ae"
            ],
            [
             0.3,
             "#f1b6da"
            ],
            [
             0.4,
             "#fde0ef"
            ],
            [
             0.5,
             "#f7f7f7"
            ],
            [
             0.6,
             "#e6f5d0"
            ],
            [
             0.7,
             "#b8e186"
            ],
            [
             0.8,
             "#7fbc41"
            ],
            [
             0.9,
             "#4d9221"
            ],
            [
             1,
             "#276419"
            ]
           ],
           "sequential": [
            [
             0,
             "#0d0887"
            ],
            [
             0.1111111111111111,
             "#46039f"
            ],
            [
             0.2222222222222222,
             "#7201a8"
            ],
            [
             0.3333333333333333,
             "#9c179e"
            ],
            [
             0.4444444444444444,
             "#bd3786"
            ],
            [
             0.5555555555555556,
             "#d8576b"
            ],
            [
             0.6666666666666666,
             "#ed7953"
            ],
            [
             0.7777777777777778,
             "#fb9f3a"
            ],
            [
             0.8888888888888888,
             "#fdca26"
            ],
            [
             1,
             "#f0f921"
            ]
           ],
           "sequentialminus": [
            [
             0,
             "#0d0887"
            ],
            [
             0.1111111111111111,
             "#46039f"
            ],
            [
             0.2222222222222222,
             "#7201a8"
            ],
            [
             0.3333333333333333,
             "#9c179e"
            ],
            [
             0.4444444444444444,
             "#bd3786"
            ],
            [
             0.5555555555555556,
             "#d8576b"
            ],
            [
             0.6666666666666666,
             "#ed7953"
            ],
            [
             0.7777777777777778,
             "#fb9f3a"
            ],
            [
             0.8888888888888888,
             "#fdca26"
            ],
            [
             1,
             "#f0f921"
            ]
           ]
          },
          "colorway": [
           "#636efa",
           "#EF553B",
           "#00cc96",
           "#ab63fa",
           "#FFA15A",
           "#19d3f3",
           "#FF6692",
           "#B6E880",
           "#FF97FF",
           "#FECB52"
          ],
          "font": {
           "color": "#2a3f5f"
          },
          "geo": {
           "bgcolor": "white",
           "lakecolor": "white",
           "landcolor": "#E5ECF6",
           "showlakes": true,
           "showland": true,
           "subunitcolor": "white"
          },
          "hoverlabel": {
           "align": "left"
          },
          "hovermode": "closest",
          "mapbox": {
           "style": "light"
          },
          "paper_bgcolor": "white",
          "plot_bgcolor": "#E5ECF6",
          "polar": {
           "angularaxis": {
            "gridcolor": "white",
            "linecolor": "white",
            "ticks": ""
           },
           "bgcolor": "#E5ECF6",
           "radialaxis": {
            "gridcolor": "white",
            "linecolor": "white",
            "ticks": ""
           }
          },
          "scene": {
           "xaxis": {
            "backgroundcolor": "#E5ECF6",
            "gridcolor": "white",
            "gridwidth": 2,
            "linecolor": "white",
            "showbackground": true,
            "ticks": "",
            "zerolinecolor": "white"
           },
           "yaxis": {
            "backgroundcolor": "#E5ECF6",
            "gridcolor": "white",
            "gridwidth": 2,
            "linecolor": "white",
            "showbackground": true,
            "ticks": "",
            "zerolinecolor": "white"
           },
           "zaxis": {
            "backgroundcolor": "#E5ECF6",
            "gridcolor": "white",
            "gridwidth": 2,
            "linecolor": "white",
            "showbackground": true,
            "ticks": "",
            "zerolinecolor": "white"
           }
          },
          "shapedefaults": {
           "line": {
            "color": "#2a3f5f"
           }
          },
          "ternary": {
           "aaxis": {
            "gridcolor": "white",
            "linecolor": "white",
            "ticks": ""
           },
           "baxis": {
            "gridcolor": "white",
            "linecolor": "white",
            "ticks": ""
           },
           "bgcolor": "#E5ECF6",
           "caxis": {
            "gridcolor": "white",
            "linecolor": "white",
            "ticks": ""
           }
          },
          "title": {
           "x": 0.05
          },
          "xaxis": {
           "automargin": true,
           "gridcolor": "white",
           "linecolor": "white",
           "ticks": "",
           "title": {
            "standoff": 15
           },
           "zerolinecolor": "white",
           "zerolinewidth": 2
          },
          "yaxis": {
           "automargin": true,
           "gridcolor": "white",
           "linecolor": "white",
           "ticks": "",
           "title": {
            "standoff": 15
           },
           "zerolinecolor": "white",
           "zerolinewidth": 2
          }
         }
        },
        "title": {
         "font": {
          "size": 20
         },
         "text": "Takeup Rate Analysis: Baseline vs Reformed Scenarios"
        },
        "width": 1400,
        "xaxis": {
         "anchor": "y",
         "domain": [
          0,
          0.25333333333333335
         ],
         "range": [
          0,
          1
         ],
         "title": {
          "text": "Takeup Rate"
         }
        },
        "xaxis2": {
         "anchor": "y2",
         "domain": [
          0.37333333333333335,
          0.6266666666666667
         ],
         "range": [
          0,
          1
         ],
         "title": {
          "text": "Takeup Rate"
         }
        },
        "xaxis3": {
         "anchor": "y3",
         "domain": [
          0.7466666666666667,
          1
         ],
         "range": [
          0,
          1
         ],
         "title": {
          "text": "Takeup Rate"
         }
        },
        "yaxis": {
         "anchor": "x",
         "domain": [
          0,
          1
         ],
         "title": {
          "text": "Enrollment (millions)"
         }
        },
        "yaxis2": {
         "anchor": "x2",
         "domain": [
          0,
          1
         ],
         "title": {
          "text": "Spending (billions)"
         }
        },
        "yaxis3": {
         "anchor": "x3",
         "domain": [
          0,
          1
         ],
         "title": {
          "text": "Spending (billions)"
         }
        }
       }
      }
     },
     "metadata": {},
     "output_type": "display_data"
    },
    {
     "data": {
      "application/vnd.plotly.v1+json": {
       "config": {
        "plotlyServerURL": "https://plot.ly"
       },
       "data": [
        {
         "hovertemplate": "Reform Takeup Rate: %{x:.2f}<br>Change: %{y:.2f}<extra></extra>",
         "line": {
          "color": "green",
          "width": 2
         },
         "mode": "lines",
         "name": "Change from Baseline",
         "showlegend": true,
         "type": "scatter",
         "x": [
          0.6,
          0.61,
          0.62,
          0.63,
          0.64,
          0.65,
          0.66,
          0.67,
          0.68,
          0.6900000000000001,
          0.7000000000000001,
          0.7100000000000001,
          0.7200000000000001,
          0.7300000000000001,
          0.7400000000000001,
          0.7500000000000001,
          0.7600000000000001,
          0.7700000000000001,
          0.7800000000000001,
          0.7900000000000001,
          0.8000000000000002,
          0.8100000000000002,
          0.8200000000000002,
          0.8300000000000002,
          0.8400000000000002,
          0.8500000000000002,
          0.8600000000000002,
          0.8700000000000002,
          0.8800000000000002,
          0.8900000000000002,
          0.9000000000000002
         ],
         "xaxis": "x",
         "y": [
          -16.663512281010725,
          -16.346176901809955,
          -15.040353376285644,
          -14.62667032845502,
          -14.042502635122048,
          -13.06487769367002,
          -12.778412354259657,
          -12.442019773190104,
          -10.765165769056829,
          -10.58097188909575,
          -9.829488700826673,
          -8.622580216018399,
          -8.189079391250509,
          -7.220573739867348,
          -6.321754000363001,
          -5.817949912077118,
          -5.280840860855477,
          -4.417488073035081,
          -3.6135391644591266,
          -2.6200759583097124,
          -1.8348279333844175,
          -1.595185897145413,
          0,
          1.27263160641715,
          2.8605920972126597,
          3.0728774353269728,
          5.0150930881126214,
          6.65448860852635,
          8.287633346747668,
          10.212560370250827,
          12.593518909613877
         ],
         "yaxis": "y"
        },
        {
         "hovertemplate": "Reform Takeup Rate: %{x:.2f}<br>Change: %{y:.2f}<extra></extra>",
         "line": {
          "color": "green",
          "width": 2
         },
         "mode": "lines",
         "name": "Change from Baseline",
         "showlegend": false,
         "type": "scatter",
         "x": [
          0.6,
          0.61,
          0.62,
          0.63,
          0.64,
          0.65,
          0.66,
          0.67,
          0.68,
          0.6900000000000001,
          0.7000000000000001,
          0.7100000000000001,
          0.7200000000000001,
          0.7300000000000001,
          0.7400000000000001,
          0.7500000000000001,
          0.7600000000000001,
          0.7700000000000001,
          0.7800000000000001,
          0.7900000000000001,
          0.8000000000000002,
          0.8100000000000002,
          0.8200000000000002,
          0.8300000000000002,
          0.8400000000000002,
          0.8500000000000002,
          0.8600000000000002,
          0.8700000000000002,
          0.8800000000000002,
          0.8900000000000002,
          0.9000000000000002
         ],
         "xaxis": "x2",
         "y": [
          -351.4204307204866,
          -341.1762856876918,
          -330.09456234669483,
          -317.71433231590686,
          -307.08029192502465,
          -298.275560950918,
          -283.7455410958414,
          -276.5400545417094,
          -262.47424766818483,
          -257.0325933767308,
          -249.0847776553735,
          -239.19304679054233,
          -231.57695986178032,
          -220.0040691105478,
          -207.1834893036796,
          -198.10713888660484,
          -192.80719737984327,
          -185.58019310147938,
          -174.06115448668254,
          -165.93821714202647,
          -142.93827675543014,
          -136.0251043714877,
          -120.72058482847001,
          -109.57104126439947,
          -105.48316708412096,
          -97.98487746068417,
          -86.65231974546134,
          -72.67664351748431,
          -60.38996747364399,
          -51.211173660907434,
          -31.792832309780692
         ],
         "yaxis": "y2"
        },
        {
         "hovertemplate": "Reform Takeup Rate: %{x:.2f}<br>Change: %{y:.2f}<extra></extra>",
         "line": {
          "color": "green",
          "width": 2
         },
         "mode": "lines",
         "name": "Change from Baseline",
         "showlegend": false,
         "type": "scatter",
         "x": [
          0.6,
          0.61,
          0.62,
          0.63,
          0.64,
          0.65,
          0.66,
          0.67,
          0.68,
          0.6900000000000001,
          0.7000000000000001,
          0.7100000000000001,
          0.7200000000000001,
          0.7300000000000001,
          0.7400000000000001,
          0.7500000000000001,
          0.7600000000000001,
          0.7700000000000001,
          0.7800000000000001,
          0.7900000000000001,
          0.8000000000000002,
          0.8100000000000002,
          0.8200000000000002,
          0.8300000000000002,
          0.8400000000000002,
          0.8500000000000002,
          0.8600000000000002,
          0.8700000000000002,
          0.8800000000000002,
          0.8900000000000002,
          0.9000000000000002
         ],
         "xaxis": "x3",
         "y": [
          -13.646051600082757,
          -12.426014269974758,
          -10.782024511836198,
          -8.592530019990392,
          -7.90439009594283,
          -6.04416063736312,
          -2.5714975502477273,
          -0.12970803197291048,
          2.6679171034692786,
          3.441047626348279,
          12.014091256275037,
          14.425231818948134,
          16.657943700927234,
          23.290919382889825,
          25.305499086548565,
          26.37016300359099,
          61.39548250748976,
          62.97505367210408,
          65.18565228319949,
          83.9767929469829,
          85.37691584779319,
          90.5816080517296,
          105.5939096158811,
          111.55867477864965,
          117.8309074807465,
          122.54425311674376,
          124.80239787784726,
          131.54220144298907,
          134.69619383684184,
          147.80245415710417,
          148.59296805980753
         ],
         "yaxis": "y3"
        }
       ],
       "layout": {
        "annotations": [
         {
          "font": {
           "size": 16
          },
          "showarrow": false,
          "text": "SNAP: Change from Baseline",
          "x": 0.12666666666666668,
          "xanchor": "center",
          "xref": "paper",
          "y": 1,
          "yanchor": "bottom",
          "yref": "paper"
         },
         {
          "font": {
           "size": 16
          },
          "showarrow": false,
          "text": "Medicaid: Change from Baseline",
          "x": 0.5,
          "xanchor": "center",
          "xref": "paper",
          "y": 1,
          "yanchor": "bottom",
          "yref": "paper"
         },
         {
          "font": {
           "size": 16
          },
          "showarrow": false,
          "text": "ACA Premium Tax Credits: Change from Baseline",
          "x": 0.8733333333333333,
          "xanchor": "center",
          "xref": "paper",
          "y": 1,
          "yanchor": "bottom",
          "yref": "paper"
         },
         {
          "showarrow": false,
          "text": "Current: 0.82",
          "x": 0.82,
          "xanchor": "left",
          "xref": "x",
          "y": 1,
          "yanchor": "top",
          "yref": "y domain"
         },
         {
          "showarrow": false,
          "text": "Current: 0.93",
          "x": 0.93,
          "xanchor": "left",
          "xref": "x2",
          "y": 1,
          "yanchor": "top",
          "yref": "y2 domain"
         },
         {
          "showarrow": false,
          "text": "Current: 0.67",
          "x": 0.672,
          "xanchor": "left",
          "xref": "x3",
          "y": 1,
          "yanchor": "top",
          "yref": "y3 domain"
         }
        ],
        "height": 500,
        "hovermode": "x unified",
        "shapes": [
         {
          "line": {
           "color": "black"
          },
          "opacity": 0.3,
          "type": "line",
          "x0": 0,
          "x1": 1,
          "xref": "x domain",
          "y0": 0,
          "y1": 0,
          "yref": "y"
         },
         {
          "line": {
           "color": "green",
           "dash": "dot"
          },
          "opacity": 0.5,
          "type": "line",
          "x0": 0.82,
          "x1": 0.82,
          "xref": "x",
          "y0": 0,
          "y1": 1,
          "yref": "y domain"
         },
         {
          "line": {
           "color": "black"
          },
          "opacity": 0.3,
          "type": "line",
          "x0": 0,
          "x1": 1,
          "xref": "x2 domain",
          "y0": 0,
          "y1": 0,
          "yref": "y2"
         },
         {
          "line": {
           "color": "green",
           "dash": "dot"
          },
          "opacity": 0.5,
          "type": "line",
          "x0": 0.93,
          "x1": 0.93,
          "xref": "x2",
          "y0": 0,
          "y1": 1,
          "yref": "y2 domain"
         },
         {
          "line": {
           "color": "black"
          },
          "opacity": 0.3,
          "type": "line",
          "x0": 0,
          "x1": 1,
          "xref": "x3 domain",
          "y0": 0,
          "y1": 0,
          "yref": "y3"
         },
         {
          "line": {
           "color": "green",
           "dash": "dot"
          },
          "opacity": 0.5,
          "type": "line",
          "x0": 0.672,
          "x1": 0.672,
          "xref": "x3",
          "y0": 0,
          "y1": 1,
          "yref": "y3 domain"
         }
        ],
        "template": {
         "data": {
          "bar": [
           {
            "error_x": {
             "color": "#2a3f5f"
            },
            "error_y": {
             "color": "#2a3f5f"
            },
            "marker": {
             "line": {
              "color": "#E5ECF6",
              "width": 0.5
             },
             "pattern": {
              "fillmode": "overlay",
              "size": 10,
              "solidity": 0.2
             }
            },
            "type": "bar"
           }
          ],
          "barpolar": [
           {
            "marker": {
             "line": {
              "color": "#E5ECF6",
              "width": 0.5
             },
             "pattern": {
              "fillmode": "overlay",
              "size": 10,
              "solidity": 0.2
             }
            },
            "type": "barpolar"
           }
          ],
          "carpet": [
           {
            "aaxis": {
             "endlinecolor": "#2a3f5f",
             "gridcolor": "white",
             "linecolor": "white",
             "minorgridcolor": "white",
             "startlinecolor": "#2a3f5f"
            },
            "baxis": {
             "endlinecolor": "#2a3f5f",
             "gridcolor": "white",
             "linecolor": "white",
             "minorgridcolor": "white",
             "startlinecolor": "#2a3f5f"
            },
            "type": "carpet"
           }
          ],
          "choropleth": [
           {
            "colorbar": {
             "outlinewidth": 0,
             "ticks": ""
            },
            "type": "choropleth"
           }
          ],
          "contour": [
           {
            "colorbar": {
             "outlinewidth": 0,
             "ticks": ""
            },
            "colorscale": [
             [
              0,
              "#0d0887"
             ],
             [
              0.1111111111111111,
              "#46039f"
             ],
             [
              0.2222222222222222,
              "#7201a8"
             ],
             [
              0.3333333333333333,
              "#9c179e"
             ],
             [
              0.4444444444444444,
              "#bd3786"
             ],
             [
              0.5555555555555556,
              "#d8576b"
             ],
             [
              0.6666666666666666,
              "#ed7953"
             ],
             [
              0.7777777777777778,
              "#fb9f3a"
             ],
             [
              0.8888888888888888,
              "#fdca26"
             ],
             [
              1,
              "#f0f921"
             ]
            ],
            "type": "contour"
           }
          ],
          "contourcarpet": [
           {
            "colorbar": {
             "outlinewidth": 0,
             "ticks": ""
            },
            "type": "contourcarpet"
           }
          ],
          "heatmap": [
           {
            "colorbar": {
             "outlinewidth": 0,
             "ticks": ""
            },
            "colorscale": [
             [
              0,
              "#0d0887"
             ],
             [
              0.1111111111111111,
              "#46039f"
             ],
             [
              0.2222222222222222,
              "#7201a8"
             ],
             [
              0.3333333333333333,
              "#9c179e"
             ],
             [
              0.4444444444444444,
              "#bd3786"
             ],
             [
              0.5555555555555556,
              "#d8576b"
             ],
             [
              0.6666666666666666,
              "#ed7953"
             ],
             [
              0.7777777777777778,
              "#fb9f3a"
             ],
             [
              0.8888888888888888,
              "#fdca26"
             ],
             [
              1,
              "#f0f921"
             ]
            ],
            "type": "heatmap"
           }
          ],
          "heatmapgl": [
           {
            "colorbar": {
             "outlinewidth": 0,
             "ticks": ""
            },
            "colorscale": [
             [
              0,
              "#0d0887"
             ],
             [
              0.1111111111111111,
              "#46039f"
             ],
             [
              0.2222222222222222,
              "#7201a8"
             ],
             [
              0.3333333333333333,
              "#9c179e"
             ],
             [
              0.4444444444444444,
              "#bd3786"
             ],
             [
              0.5555555555555556,
              "#d8576b"
             ],
             [
              0.6666666666666666,
              "#ed7953"
             ],
             [
              0.7777777777777778,
              "#fb9f3a"
             ],
             [
              0.8888888888888888,
              "#fdca26"
             ],
             [
              1,
              "#f0f921"
             ]
            ],
            "type": "heatmapgl"
           }
          ],
          "histogram": [
           {
            "marker": {
             "pattern": {
              "fillmode": "overlay",
              "size": 10,
              "solidity": 0.2
             }
            },
            "type": "histogram"
           }
          ],
          "histogram2d": [
           {
            "colorbar": {
             "outlinewidth": 0,
             "ticks": ""
            },
            "colorscale": [
             [
              0,
              "#0d0887"
             ],
             [
              0.1111111111111111,
              "#46039f"
             ],
             [
              0.2222222222222222,
              "#7201a8"
             ],
             [
              0.3333333333333333,
              "#9c179e"
             ],
             [
              0.4444444444444444,
              "#bd3786"
             ],
             [
              0.5555555555555556,
              "#d8576b"
             ],
             [
              0.6666666666666666,
              "#ed7953"
             ],
             [
              0.7777777777777778,
              "#fb9f3a"
             ],
             [
              0.8888888888888888,
              "#fdca26"
             ],
             [
              1,
              "#f0f921"
             ]
            ],
            "type": "histogram2d"
           }
          ],
          "histogram2dcontour": [
           {
            "colorbar": {
             "outlinewidth": 0,
             "ticks": ""
            },
            "colorscale": [
             [
              0,
              "#0d0887"
             ],
             [
              0.1111111111111111,
              "#46039f"
             ],
             [
              0.2222222222222222,
              "#7201a8"
             ],
             [
              0.3333333333333333,
              "#9c179e"
             ],
             [
              0.4444444444444444,
              "#bd3786"
             ],
             [
              0.5555555555555556,
              "#d8576b"
             ],
             [
              0.6666666666666666,
              "#ed7953"
             ],
             [
              0.7777777777777778,
              "#fb9f3a"
             ],
             [
              0.8888888888888888,
              "#fdca26"
             ],
             [
              1,
              "#f0f921"
             ]
            ],
            "type": "histogram2dcontour"
           }
          ],
          "mesh3d": [
           {
            "colorbar": {
             "outlinewidth": 0,
             "ticks": ""
            },
            "type": "mesh3d"
           }
          ],
          "parcoords": [
           {
            "line": {
             "colorbar": {
              "outlinewidth": 0,
              "ticks": ""
             }
            },
            "type": "parcoords"
           }
          ],
          "pie": [
           {
            "automargin": true,
            "type": "pie"
           }
          ],
          "scatter": [
           {
            "fillpattern": {
             "fillmode": "overlay",
             "size": 10,
             "solidity": 0.2
            },
            "type": "scatter"
           }
          ],
          "scatter3d": [
           {
            "line": {
             "colorbar": {
              "outlinewidth": 0,
              "ticks": ""
             }
            },
            "marker": {
             "colorbar": {
              "outlinewidth": 0,
              "ticks": ""
             }
            },
            "type": "scatter3d"
           }
          ],
          "scattercarpet": [
           {
            "marker": {
             "colorbar": {
              "outlinewidth": 0,
              "ticks": ""
             }
            },
            "type": "scattercarpet"
           }
          ],
          "scattergeo": [
           {
            "marker": {
             "colorbar": {
              "outlinewidth": 0,
              "ticks": ""
             }
            },
            "type": "scattergeo"
           }
          ],
          "scattergl": [
           {
            "marker": {
             "colorbar": {
              "outlinewidth": 0,
              "ticks": ""
             }
            },
            "type": "scattergl"
           }
          ],
          "scattermapbox": [
           {
            "marker": {
             "colorbar": {
              "outlinewidth": 0,
              "ticks": ""
             }
            },
            "type": "scattermapbox"
           }
          ],
          "scatterpolar": [
           {
            "marker": {
             "colorbar": {
              "outlinewidth": 0,
              "ticks": ""
             }
            },
            "type": "scatterpolar"
           }
          ],
          "scatterpolargl": [
           {
            "marker": {
             "colorbar": {
              "outlinewidth": 0,
              "ticks": ""
             }
            },
            "type": "scatterpolargl"
           }
          ],
          "scatterternary": [
           {
            "marker": {
             "colorbar": {
              "outlinewidth": 0,
              "ticks": ""
             }
            },
            "type": "scatterternary"
           }
          ],
          "surface": [
           {
            "colorbar": {
             "outlinewidth": 0,
             "ticks": ""
            },
            "colorscale": [
             [
              0,
              "#0d0887"
             ],
             [
              0.1111111111111111,
              "#46039f"
             ],
             [
              0.2222222222222222,
              "#7201a8"
             ],
             [
              0.3333333333333333,
              "#9c179e"
             ],
             [
              0.4444444444444444,
              "#bd3786"
             ],
             [
              0.5555555555555556,
              "#d8576b"
             ],
             [
              0.6666666666666666,
              "#ed7953"
             ],
             [
              0.7777777777777778,
              "#fb9f3a"
             ],
             [
              0.8888888888888888,
              "#fdca26"
             ],
             [
              1,
              "#f0f921"
             ]
            ],
            "type": "surface"
           }
          ],
          "table": [
           {
            "cells": {
             "fill": {
              "color": "#EBF0F8"
             },
             "line": {
              "color": "white"
             }
            },
            "header": {
             "fill": {
              "color": "#C8D4E3"
             },
             "line": {
              "color": "white"
             }
            },
            "type": "table"
           }
          ]
         },
         "layout": {
          "annotationdefaults": {
           "arrowcolor": "#2a3f5f",
           "arrowhead": 0,
           "arrowwidth": 1
          },
          "autotypenumbers": "strict",
          "coloraxis": {
           "colorbar": {
            "outlinewidth": 0,
            "ticks": ""
           }
          },
          "colorscale": {
           "diverging": [
            [
             0,
             "#8e0152"
            ],
            [
             0.1,
             "#c51b7d"
            ],
            [
             0.2,
             "#de77ae"
            ],
            [
             0.3,
             "#f1b6da"
            ],
            [
             0.4,
             "#fde0ef"
            ],
            [
             0.5,
             "#f7f7f7"
            ],
            [
             0.6,
             "#e6f5d0"
            ],
            [
             0.7,
             "#b8e186"
            ],
            [
             0.8,
             "#7fbc41"
            ],
            [
             0.9,
             "#4d9221"
            ],
            [
             1,
             "#276419"
            ]
           ],
           "sequential": [
            [
             0,
             "#0d0887"
            ],
            [
             0.1111111111111111,
             "#46039f"
            ],
            [
             0.2222222222222222,
             "#7201a8"
            ],
            [
             0.3333333333333333,
             "#9c179e"
            ],
            [
             0.4444444444444444,
             "#bd3786"
            ],
            [
             0.5555555555555556,
             "#d8576b"
            ],
            [
             0.6666666666666666,
             "#ed7953"
            ],
            [
             0.7777777777777778,
             "#fb9f3a"
            ],
            [
             0.8888888888888888,
             "#fdca26"
            ],
            [
             1,
             "#f0f921"
            ]
           ],
           "sequentialminus": [
            [
             0,
             "#0d0887"
            ],
            [
             0.1111111111111111,
             "#46039f"
            ],
            [
             0.2222222222222222,
             "#7201a8"
            ],
            [
             0.3333333333333333,
             "#9c179e"
            ],
            [
             0.4444444444444444,
             "#bd3786"
            ],
            [
             0.5555555555555556,
             "#d8576b"
            ],
            [
             0.6666666666666666,
             "#ed7953"
            ],
            [
             0.7777777777777778,
             "#fb9f3a"
            ],
            [
             0.8888888888888888,
             "#fdca26"
            ],
            [
             1,
             "#f0f921"
            ]
           ]
          },
          "colorway": [
           "#636efa",
           "#EF553B",
           "#00cc96",
           "#ab63fa",
           "#FFA15A",
           "#19d3f3",
           "#FF6692",
           "#B6E880",
           "#FF97FF",
           "#FECB52"
          ],
          "font": {
           "color": "#2a3f5f"
          },
          "geo": {
           "bgcolor": "white",
           "lakecolor": "white",
           "landcolor": "#E5ECF6",
           "showlakes": true,
           "showland": true,
           "subunitcolor": "white"
          },
          "hoverlabel": {
           "align": "left"
          },
          "hovermode": "closest",
          "mapbox": {
           "style": "light"
          },
          "paper_bgcolor": "white",
          "plot_bgcolor": "#E5ECF6",
          "polar": {
           "angularaxis": {
            "gridcolor": "white",
            "linecolor": "white",
            "ticks": ""
           },
           "bgcolor": "#E5ECF6",
           "radialaxis": {
            "gridcolor": "white",
            "linecolor": "white",
            "ticks": ""
           }
          },
          "scene": {
           "xaxis": {
            "backgroundcolor": "#E5ECF6",
            "gridcolor": "white",
            "gridwidth": 2,
            "linecolor": "white",
            "showbackground": true,
            "ticks": "",
            "zerolinecolor": "white"
           },
           "yaxis": {
            "backgroundcolor": "#E5ECF6",
            "gridcolor": "white",
            "gridwidth": 2,
            "linecolor": "white",
            "showbackground": true,
            "ticks": "",
            "zerolinecolor": "white"
           },
           "zaxis": {
            "backgroundcolor": "#E5ECF6",
            "gridcolor": "white",
            "gridwidth": 2,
            "linecolor": "white",
            "showbackground": true,
            "ticks": "",
            "zerolinecolor": "white"
           }
          },
          "shapedefaults": {
           "line": {
            "color": "#2a3f5f"
           }
          },
          "ternary": {
           "aaxis": {
            "gridcolor": "white",
            "linecolor": "white",
            "ticks": ""
           },
           "baxis": {
            "gridcolor": "white",
            "linecolor": "white",
            "ticks": ""
           },
           "bgcolor": "#E5ECF6",
           "caxis": {
            "gridcolor": "white",
            "linecolor": "white",
            "ticks": ""
           }
          },
          "title": {
           "x": 0.05
          },
          "xaxis": {
           "automargin": true,
           "gridcolor": "white",
           "linecolor": "white",
           "ticks": "",
           "title": {
            "standoff": 15
           },
           "zerolinecolor": "white",
           "zerolinewidth": 2
          },
          "yaxis": {
           "automargin": true,
           "gridcolor": "white",
           "linecolor": "white",
           "ticks": "",
           "title": {
            "standoff": 15
           },
           "zerolinecolor": "white",
           "zerolinewidth": 2
          }
         }
        },
        "title": {
         "font": {
          "size": 20
         },
         "text": "Impact of Reform: Change from Baseline"
        },
        "width": 1400,
        "xaxis": {
         "anchor": "y",
         "domain": [
          0,
          0.25333333333333335
         ],
         "range": [
          0,
          1
         ],
         "title": {
          "text": "Reform Takeup Rate"
         }
        },
        "xaxis2": {
         "anchor": "y2",
         "domain": [
          0.37333333333333335,
          0.6266666666666667
         ],
         "range": [
          0,
          1
         ],
         "title": {
          "text": "Reform Takeup Rate"
         }
        },
        "xaxis3": {
         "anchor": "y3",
         "domain": [
          0.7466666666666667,
          1
         ],
         "range": [
          0,
          1
         ],
         "title": {
          "text": "Reform Takeup Rate"
         }
        },
        "yaxis": {
         "anchor": "x",
         "domain": [
          0,
          1
         ],
         "title": {
          "text": "Change in Enrollment from Baseline"
         }
        },
        "yaxis2": {
         "anchor": "x2",
         "domain": [
          0,
          1
         ],
         "title": {
          "text": "Change in Spending from Baseline"
         }
        },
        "yaxis3": {
         "anchor": "x3",
         "domain": [
          0,
          1
         ],
         "title": {
          "text": "Change in Spending from Baseline"
         }
        }
       }
      }
     },
     "metadata": {},
     "output_type": "display_data"
    }
   ],
   "source": [
    "# Show the figures\n",
    "fig1.show()\n",
    "fig2.show()"
   ]
  },
  {
   "cell_type": "code",
   "execution_count": 41,
   "metadata": {},
   "outputs": [
    {
     "name": "stdout",
     "output_type": "stream",
     "text": [
      "\n",
      "================================================================================\n",
      "SUMMARY STATISTICS\n",
      "================================================================================\n"
     ]
    }
   ],
   "source": [
    "# Create summary statistics\n",
    "print(\"\\n\" + \"=\"*80)\n",
    "print(\"SUMMARY STATISTICS\")\n",
    "print(\"=\"*80)\n",
    "\n",
    "for program in programs:\n",
    "    df = results[program]\n",
    "    baseline_rate = baseline_takeup_rates[program]\n",
    "    \n",
    "    # Find the row corresponding to baseline takeup rate\n",
    "    baseline_idx = int(baseline_rate * 100)\n",
    "    if baseline_idx < len(df):\n",
    "        baseline_value = df.iloc[baseline_idx]['baseline_metric']\n",
    "        reformed_value = df.iloc[baseline_idx]['reformed_metric']\n",
    "        change = df.iloc[baseline_idx]['change_from_baseline']\n",
    "        \n",
    "        metric_type = \"enrollment (millions)\" if program == \"snap\" else \"spending (billions)\"\n",
    "        \n",
    "        print(f\"\\n{titles[program]}:\")\n",
    "        print(f\"  Baseline takeup rate: {baseline_rate:.2%}\")\n",
    "        print(f\"  Baseline {metric_type}: {baseline_value:.2f}\")\n",
    "        print(f\"  Reformed {metric_type} (at baseline rate): {reformed_value:.2f}\")\n",
    "        print(f\"  Change: {change:+.2f} ({change/baseline_value*100:+.1f}%)\")\n"
   ]
  },
  {
   "cell_type": "code",
   "execution_count": 42,
   "metadata": {},
   "outputs": [
    {
     "name": "stdout",
     "output_type": "stream",
     "text": [
      "\n",
      "Saved snap results to snap_takeup_analysis.csv\n",
      "\n",
      "Saved medicaid results to medicaid_takeup_analysis.csv\n",
      "\n",
      "Saved aca_ptc results to aca_ptc_takeup_analysis.csv\n"
     ]
    }
   ],
   "source": [
    "# Save results to CSV files\n",
    "for program in programs:\n",
    "    filename = f\"{program}_takeup_analysis.csv\"\n",
    "    results[program].to_csv(filename, index=False)\n",
    "    print(f\"\\nSaved {program} results to {filename}\")\n"
   ]
  }
 ],
 "metadata": {
  "kernelspec": {
   "display_name": "pe",
   "language": "python",
   "name": "python3"
  },
  "language_info": {
   "codemirror_mode": {
    "name": "ipython",
    "version": 3
   },
   "file_extension": ".py",
   "mimetype": "text/x-python",
   "name": "python",
   "nbconvert_exporter": "python",
   "pygments_lexer": "ipython3",
   "version": "3.10.14"
  }
 },
 "nbformat": 4,
 "nbformat_minor": 2
}
